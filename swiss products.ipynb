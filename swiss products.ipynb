{
 "cells": [
  {
   "cell_type": "code",
   "execution_count": 1,
   "metadata": {
    "collapsed": true
   },
   "outputs": [],
   "source": [
    "import pandas as pd\n",
    "import numpy as np\n",
    "import matplotlib\n",
    "import matplotlib.pyplot as plt\n",
    "\n",
    "%matplotlib inline\n"
   ]
  },
  {
   "cell_type": "code",
   "execution_count": 11,
   "metadata": {
    "collapsed": false
   },
   "outputs": [],
   "source": [
    "swissDF  = pd.read_csv(\"swiss_reviews.csv\")"
   ]
  },
  {
   "cell_type": "code",
   "execution_count": 12,
   "metadata": {
    "collapsed": false,
    "scrolled": true
   },
   "outputs": [
    {
     "data": {
      "text/html": [
       "<div>\n",
       "<table border=\"1\" class=\"dataframe\">\n",
       "  <thead>\n",
       "    <tr style=\"text-align: right;\">\n",
       "      <th></th>\n",
       "      <th>Unnamed: 0</th>\n",
       "      <th>asin</th>\n",
       "      <th>helpful</th>\n",
       "      <th>overall</th>\n",
       "      <th>reviewText</th>\n",
       "      <th>reviewTime</th>\n",
       "      <th>reviewerID</th>\n",
       "      <th>reviewerName</th>\n",
       "      <th>summary</th>\n",
       "      <th>unixReviewTime</th>\n",
       "      <th>brand</th>\n",
       "      <th>categories</th>\n",
       "    </tr>\n",
       "  </thead>\n",
       "  <tbody>\n",
       "    <tr>\n",
       "      <th>0</th>\n",
       "      <td>0</td>\n",
       "      <td>B000R9AAJA</td>\n",
       "      <td>[0, 0]</td>\n",
       "      <td>5.0</td>\n",
       "      <td>Speakers are loud and clear. They work great! ...</td>\n",
       "      <td>11 22, 2012</td>\n",
       "      <td>A0023922YYT81KP1CWU4</td>\n",
       "      <td>Steven Caruso</td>\n",
       "      <td>Great!</td>\n",
       "      <td>1353542400</td>\n",
       "      <td>Logitech</td>\n",
       "      <td>[['Electronics', 'Computers &amp; Accessories', 'C...</td>\n",
       "    </tr>\n",
       "    <tr>\n",
       "      <th>1</th>\n",
       "      <td>1</td>\n",
       "      <td>B000R9AAJA</td>\n",
       "      <td>[1, 1]</td>\n",
       "      <td>5.0</td>\n",
       "      <td>These I bought for my co-worker who always bor...</td>\n",
       "      <td>02 3, 2014</td>\n",
       "      <td>A034570920WVP7XFWHZ5I</td>\n",
       "      <td>Olyvia</td>\n",
       "      <td>Co-Worker is happy</td>\n",
       "      <td>1391385600</td>\n",
       "      <td>Logitech</td>\n",
       "      <td>[['Electronics', 'Computers &amp; Accessories', 'C...</td>\n",
       "    </tr>\n",
       "    <tr>\n",
       "      <th>2</th>\n",
       "      <td>2</td>\n",
       "      <td>B000R9AAJA</td>\n",
       "      <td>[1, 1]</td>\n",
       "      <td>5.0</td>\n",
       "      <td>I bought these speakers for a friend's birthda...</td>\n",
       "      <td>02 2, 2013</td>\n",
       "      <td>A100FXXJZMM6PI</td>\n",
       "      <td>Phillip Ly</td>\n",
       "      <td>Logitech S-120 Speakers</td>\n",
       "      <td>1359763200</td>\n",
       "      <td>Logitech</td>\n",
       "      <td>[['Electronics', 'Computers &amp; Accessories', 'C...</td>\n",
       "    </tr>\n",
       "    <tr>\n",
       "      <th>3</th>\n",
       "      <td>3</td>\n",
       "      <td>B000R9AAJA</td>\n",
       "      <td>[1, 1]</td>\n",
       "      <td>5.0</td>\n",
       "      <td>My brother bought this speaker set for me back...</td>\n",
       "      <td>10 20, 2012</td>\n",
       "      <td>A10636NGTJRUHN</td>\n",
       "      <td>sande276</td>\n",
       "      <td>Great!</td>\n",
       "      <td>1350691200</td>\n",
       "      <td>Logitech</td>\n",
       "      <td>[['Electronics', 'Computers &amp; Accessories', 'C...</td>\n",
       "    </tr>\n",
       "    <tr>\n",
       "      <th>4</th>\n",
       "      <td>4</td>\n",
       "      <td>B000R9AAJA</td>\n",
       "      <td>[1, 1]</td>\n",
       "      <td>5.0</td>\n",
       "      <td>I have had these for a while and they work lik...</td>\n",
       "      <td>01 31, 2013</td>\n",
       "      <td>A1071EF3JDBGI0</td>\n",
       "      <td>R. Lorente \"Picky\"</td>\n",
       "      <td>EXCELLENT!</td>\n",
       "      <td>1359590400</td>\n",
       "      <td>Logitech</td>\n",
       "      <td>[['Electronics', 'Computers &amp; Accessories', 'C...</td>\n",
       "    </tr>\n",
       "  </tbody>\n",
       "</table>\n",
       "</div>"
      ],
      "text/plain": [
       "   Unnamed: 0        asin helpful  overall  \\\n",
       "0           0  B000R9AAJA  [0, 0]      5.0   \n",
       "1           1  B000R9AAJA  [1, 1]      5.0   \n",
       "2           2  B000R9AAJA  [1, 1]      5.0   \n",
       "3           3  B000R9AAJA  [1, 1]      5.0   \n",
       "4           4  B000R9AAJA  [1, 1]      5.0   \n",
       "\n",
       "                                          reviewText   reviewTime  \\\n",
       "0  Speakers are loud and clear. They work great! ...  11 22, 2012   \n",
       "1  These I bought for my co-worker who always bor...   02 3, 2014   \n",
       "2  I bought these speakers for a friend's birthda...   02 2, 2013   \n",
       "3  My brother bought this speaker set for me back...  10 20, 2012   \n",
       "4  I have had these for a while and they work lik...  01 31, 2013   \n",
       "\n",
       "              reviewerID        reviewerName                  summary  \\\n",
       "0   A0023922YYT81KP1CWU4       Steven Caruso                   Great!   \n",
       "1  A034570920WVP7XFWHZ5I              Olyvia       Co-Worker is happy   \n",
       "2         A100FXXJZMM6PI          Phillip Ly  Logitech S-120 Speakers   \n",
       "3         A10636NGTJRUHN            sande276                   Great!   \n",
       "4         A1071EF3JDBGI0  R. Lorente \"Picky\"               EXCELLENT!   \n",
       "\n",
       "   unixReviewTime     brand                                         categories  \n",
       "0      1353542400  Logitech  [['Electronics', 'Computers & Accessories', 'C...  \n",
       "1      1391385600  Logitech  [['Electronics', 'Computers & Accessories', 'C...  \n",
       "2      1359763200  Logitech  [['Electronics', 'Computers & Accessories', 'C...  \n",
       "3      1350691200  Logitech  [['Electronics', 'Computers & Accessories', 'C...  \n",
       "4      1359590400  Logitech  [['Electronics', 'Computers & Accessories', 'C...  "
      ]
     },
     "execution_count": 12,
     "metadata": {},
     "output_type": "execute_result"
    }
   ],
   "source": [
    "swissDF.head()"
   ]
  },
  {
   "cell_type": "markdown",
   "metadata": {},
   "source": [
    "We'll first look at the overall ratings, all categories mixed together"
   ]
  },
  {
   "cell_type": "code",
   "execution_count": 13,
   "metadata": {
    "collapsed": false
   },
   "outputs": [
    {
     "data": {
      "text/plain": [
       "<matplotlib.axes._subplots.AxesSubplot at 0x37831780>"
      ]
     },
     "execution_count": 13,
     "metadata": {},
     "output_type": "execute_result"
    },
    {
     "data": {
      "image/png": "[encoded data removed]",
      "text/plain": [
       "<matplotlib.figure.Figure at 0x2a750b38>"
      ]
     },
     "metadata": {},
     "output_type": "display_data"
    }
   ],
   "source": [
    "swissDF.overall.value_counts().sort_index().plot.bar()"
   ]
  },
  {
   "cell_type": "markdown",
   "metadata": {},
   "source": [
    "The ratings are pretty high, but as we have determined before this is also the case for international products. So basing our observations on raw evaluations isn't enough, we'll try to separate them by categories and perform sentiment analysis"
   ]
  },
  {
   "cell_type": "code",
   "execution_count": 14,
   "metadata": {
    "collapsed": true
   },
   "outputs": [],
   "source": [
    "swissDF['year'] = swissDF['reviewTime'].astype(str)\n",
    "swissDF['year'] = swissDF['year'].apply(lambda x: x[-4:])"
   ]
  },
  {
   "cell_type": "code",
   "execution_count": 15,
   "metadata": {
    "collapsed": false
   },
   "outputs": [
    {
     "data": {
      "text/html": [
       "<div>\n",
       "<table border=\"1\" class=\"dataframe\">\n",
       "  <thead>\n",
       "    <tr style=\"text-align: right;\">\n",
       "      <th></th>\n",
       "      <th>count</th>\n",
       "      <th>mean</th>\n",
       "    </tr>\n",
       "    <tr>\n",
       "      <th>year</th>\n",
       "      <th></th>\n",
       "      <th></th>\n",
       "    </tr>\n",
       "  </thead>\n",
       "  <tbody>\n",
       "    <tr>\n",
       "      <th>2000</th>\n",
       "      <td>12</td>\n",
       "      <td>4.416667</td>\n",
       "    </tr>\n",
       "    <tr>\n",
       "      <th>2001</th>\n",
       "      <td>49</td>\n",
       "      <td>3.918367</td>\n",
       "    </tr>\n",
       "    <tr>\n",
       "      <th>2002</th>\n",
       "      <td>70</td>\n",
       "      <td>3.942857</td>\n",
       "    </tr>\n",
       "    <tr>\n",
       "      <th>2003</th>\n",
       "      <td>205</td>\n",
       "      <td>4.136585</td>\n",
       "    </tr>\n",
       "    <tr>\n",
       "      <th>2004</th>\n",
       "      <td>307</td>\n",
       "      <td>3.491857</td>\n",
       "    </tr>\n",
       "    <tr>\n",
       "      <th>2005</th>\n",
       "      <td>826</td>\n",
       "      <td>3.984262</td>\n",
       "    </tr>\n",
       "    <tr>\n",
       "      <th>2006</th>\n",
       "      <td>1893</td>\n",
       "      <td>4.078711</td>\n",
       "    </tr>\n",
       "    <tr>\n",
       "      <th>2007</th>\n",
       "      <td>5514</td>\n",
       "      <td>4.273486</td>\n",
       "    </tr>\n",
       "    <tr>\n",
       "      <th>2008</th>\n",
       "      <td>7366</td>\n",
       "      <td>4.250068</td>\n",
       "    </tr>\n",
       "    <tr>\n",
       "      <th>2009</th>\n",
       "      <td>10814</td>\n",
       "      <td>4.258461</td>\n",
       "    </tr>\n",
       "    <tr>\n",
       "      <th>2010</th>\n",
       "      <td>15425</td>\n",
       "      <td>4.173160</td>\n",
       "    </tr>\n",
       "    <tr>\n",
       "      <th>2011</th>\n",
       "      <td>26518</td>\n",
       "      <td>4.160570</td>\n",
       "    </tr>\n",
       "    <tr>\n",
       "      <th>2012</th>\n",
       "      <td>43383</td>\n",
       "      <td>4.123343</td>\n",
       "    </tr>\n",
       "    <tr>\n",
       "      <th>2013</th>\n",
       "      <td>102387</td>\n",
       "      <td>4.243039</td>\n",
       "    </tr>\n",
       "    <tr>\n",
       "      <th>2014</th>\n",
       "      <td>75109</td>\n",
       "      <td>4.177715</td>\n",
       "    </tr>\n",
       "  </tbody>\n",
       "</table>\n",
       "</div>"
      ],
      "text/plain": [
       "       count      mean\n",
       "year                  \n",
       "2000      12  4.416667\n",
       "2001      49  3.918367\n",
       "2002      70  3.942857\n",
       "2003     205  4.136585\n",
       "2004     307  3.491857\n",
       "2005     826  3.984262\n",
       "2006    1893  4.078711\n",
       "2007    5514  4.273486\n",
       "2008    7366  4.250068\n",
       "2009   10814  4.258461\n",
       "2010   15425  4.173160\n",
       "2011   26518  4.160570\n",
       "2012   43383  4.123343\n",
       "2013  102387  4.243039\n",
       "2014   75109  4.177715"
      ]
     },
     "execution_count": 15,
     "metadata": {},
     "output_type": "execute_result"
    }
   ],
   "source": [
    "yearGroup =swissDF.groupby(['year'])\n",
    "yearGroup['overall'].agg(['count', 'mean'])"
   ]
  },
  {
   "cell_type": "markdown",
   "metadata": {},
   "source": [
    "The mean seems pretty consistent. with a few exceptions like 2004 which is probably due to a very inpopular product released back then. It also seems like the number of reviews is increasing exponentially."
   ]
  },
  {
   "cell_type": "code",
   "execution_count": 16,
   "metadata": {
    "collapsed": false
   },
   "outputs": [
    {
     "data": {
      "text/plain": [
       "<matplotlib.axes._subplots.AxesSubplot at 0x2e41d4a8>"
      ]
     },
     "execution_count": 16,
     "metadata": {},
     "output_type": "execute_result"
    },
    {
     "data": {
      "image/png": "[encoded data removed]",
      "text/plain": [
       "<matplotlib.figure.Figure at 0x377fbf28>"
      ]
     },
     "metadata": {},
     "output_type": "display_data"
    }
   ],
   "source": [
    "yearGroup['overall'].count().plot.bar()"
   ]
  },
  {
   "cell_type": "markdown",
   "metadata": {},
   "source": [
    "2014 might seem smaller than 2013, but this data was collected in July 2014 which explains it."
   ]
  },
  {
   "cell_type": "code",
   "execution_count": null,
   "metadata": {
    "collapsed": true
   },
   "outputs": [],
   "source": []
  }
 ],
 "metadata": {
  "anaconda-cloud": {},
  "kernelspec": {
   "display_name": "Python [conda root]",
   "language": "python",
   "name": "conda-root-py"
  },
  "language_info": {
   "codemirror_mode": {
    "name": "ipython",
    "version": 3
   },
   "file_extension": ".py",
   "mimetype": "text/x-python",
   "name": "python",
   "nbconvert_exporter": "python",
   "pygments_lexer": "ipython3",
   "version": "3.5.2"
  }
 },
 "nbformat": 4,
 "nbformat_minor": 1
}
