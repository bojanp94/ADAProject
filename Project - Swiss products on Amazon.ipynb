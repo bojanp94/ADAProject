{
 "cells": [
  {
   "cell_type": "markdown",
   "metadata": {},
   "source": [
    "# Applied data analysis - Project"
   ]
  },
  {
   "cell_type": "markdown",
   "metadata": {},
   "source": [
    "## Swiss products on Amazon"
   ]
  },
  {
   "cell_type": "markdown",
   "metadata": {},
   "source": [
    "The goal of the project is to analyze the swiss products sold on Amazon based on product reviews from a certain period of time. The first challenge is to filter the data to only keep swiss products, which is not trivial. Secondly, we will have to perform analysis on the users comments and the notes they gave."
   ]
  },
  {
   "cell_type": "markdown",
   "metadata": {},
   "source": [
    "The first part is the data preparation so we can work with nice and useful data later on."
   ]
  },
  {
   "cell_type": "markdown",
   "metadata": {},
   "source": [
    "Description of data: http://jmcauley.ucsd.edu/data/amazon/"
   ]
  },
  {
   "cell_type": "markdown",
   "metadata": {},
   "source": [
    "### Setup"
   ]
  },
  {
   "cell_type": "markdown",
   "metadata": {},
   "source": [
    "This part is about fetching the data and making it nice to work with."
   ]
  },
  {
   "cell_type": "code",
   "execution_count": 1,
   "metadata": {
    "collapsed": false
   },
   "outputs": [],
   "source": [
    "from pyspark import SparkContext\n",
    "import pyspark.sql\n",
    "import pandas as pd\n",
    "import json"
   ]
  },
  {
   "cell_type": "code",
   "execution_count": 2,
   "metadata": {
    "collapsed": false
   },
   "outputs": [],
   "source": [
    "rdd = sc.textFile(\"hdfs:///datasets/amazon-reviews\")"
   ]
  },
  {
   "cell_type": "code",
   "execution_count": 3,
   "metadata": {
    "collapsed": false
   },
   "outputs": [
    {
     "data": {
      "text/plain": [
       "hdfs:///datasets/amazon-reviews MapPartitionsRDD[1] at textFile at NativeMethodAccessorImpl.java:-2"
      ]
     },
     "execution_count": 3,
     "metadata": {},
     "output_type": "execute_result"
    }
   ],
   "source": [
    "rdd"
   ]
  },
  {
   "cell_type": "code",
   "execution_count": 4,
   "metadata": {
    "collapsed": false
   },
   "outputs": [
    {
     "data": {
      "text/plain": [
       "152262068"
      ]
     },
     "execution_count": 4,
     "metadata": {},
     "output_type": "execute_result"
    }
   ],
   "source": [
    "rdd.count()"
   ]
  },
  {
   "cell_type": "code",
   "execution_count": 5,
   "metadata": {
    "collapsed": false
   },
   "outputs": [
    {
     "data": {
      "text/plain": [
       "'{\"reviewerID\": \"A00000262KYZUE4J55XGL\", \"asin\": \"B003UYU16G\", \"reviewerName\": \"Steven N Elich\", \"helpful\": [0, 0], \"reviewText\": \"It is and does exactly what the description said it would be and would do. Couldn\\'t be happier with it.\", \"overall\": 5.0, \"summary\": \"Does what it\\'s supposed to do\", \"unixReviewTime\": 1353456000, \"reviewTime\": \"11 21, 2012\"}'"
      ]
     },
     "execution_count": 5,
     "metadata": {},
     "output_type": "execute_result"
    }
   ],
   "source": [
    "rdd.first()"
   ]
  },
  {
   "cell_type": "code",
   "execution_count": 4,
   "metadata": {
    "collapsed": false
   },
   "outputs": [],
   "source": [
    "def is_json(myjson):\n",
    "  try:\n",
    "    json_object = json.loads(str(myjson))\n",
    "  except (ValueError, Exception):\n",
    "    return False\n",
    "  return True\n"
   ]
  },
  {
   "cell_type": "code",
   "execution_count": 5,
   "metadata": {
    "collapsed": true
   },
   "outputs": [],
   "source": [
    "rdd = rdd.filter(is_json)\n",
    "rdd = rdd.map(lambda x: json.loads(str(x)))"
   ]
  },
  {
   "cell_type": "code",
   "execution_count": 8,
   "metadata": {
    "collapsed": false
   },
   "outputs": [
    {
     "data": {
      "text/plain": [
       "{'asin': 'B003UYU16G',\n",
       " 'helpful': [0, 0],\n",
       " 'overall': 5.0,\n",
       " 'reviewText': \"It is and does exactly what the description said it would be and would do. Couldn't be happier with it.\",\n",
       " 'reviewTime': '11 21, 2012',\n",
       " 'reviewerID': 'A00000262KYZUE4J55XGL',\n",
       " 'reviewerName': 'Steven N Elich',\n",
       " 'summary': \"Does what it's supposed to do\",\n",
       " 'unixReviewTime': 1353456000}"
      ]
     },
     "execution_count": 8,
     "metadata": {},
     "output_type": "execute_result"
    }
   ],
   "source": [
    "rdd.first()"
   ]
  },
  {
   "cell_type": "markdown",
   "metadata": {
    "collapsed": true
   },
   "source": [
    "|   field        | description |\n",
    "|----------------|--------------------|\n",
    "| reviewerID     | ID of the reviewer |\n",
    "| asin           | ID of the product |\n",
    "| reviewerName   | name of the reviewer |\n",
    "| helpful        | helpfulness rating of the review |\n",
    "| reviewText     | text of the review|\n",
    "| overall        | rating of the product|\n",
    "| summary        | summary of the review|\n",
    "| unixReviewTime | time of the review (unix time)|\n",
    "| reviewTime     | time of the review (raw)|"
   ]
  },
  {
   "cell_type": "markdown",
   "metadata": {},
   "source": [
    "Plus for convenience, we will create a separate rdd that contains all the product IDs."
   ]
  },
  {
   "cell_type": "code",
   "execution_count": 17,
   "metadata": {
    "collapsed": false
   },
   "outputs": [
    {
     "data": {
      "text/plain": [
       "PythonRDD[16] at RDD at PythonRDD.scala:43"
      ]
     },
     "execution_count": 17,
     "metadata": {},
     "output_type": "execute_result"
    }
   ],
   "source": [
    "products = rdd.map(lambda x: (x['asin'], 1))\n",
    "products.cache()"
   ]
  },
  {
   "cell_type": "code",
   "execution_count": 18,
   "metadata": {
    "collapsed": false
   },
   "outputs": [
    {
     "data": {
      "text/plain": [
       "142831980"
      ]
     },
     "execution_count": 18,
     "metadata": {},
     "output_type": "execute_result"
    }
   ],
   "source": [
    "products.count()"
   ]
  },
  {
   "cell_type": "code",
   "execution_count": 19,
   "metadata": {
    "collapsed": false,
    "scrolled": true
   },
   "outputs": [],
   "source": [
    "uniqueProducts = products.reduceByKey(lambda a, b: a + b)"
   ]
  },
  {
   "cell_type": "code",
   "execution_count": 20,
   "metadata": {
    "collapsed": false
   },
   "outputs": [
    {
     "data": {
      "text/plain": [
       "('B00EDH41T2', 2)"
      ]
     },
     "execution_count": 20,
     "metadata": {},
     "output_type": "execute_result"
    }
   ],
   "source": [
    "uniqueProducts.first()"
   ]
  },
  {
   "cell_type": "code",
   "execution_count": 21,
   "metadata": {
    "collapsed": false
   },
   "outputs": [
    {
     "data": {
      "text/plain": [
       "12650775"
      ]
     },
     "execution_count": 21,
     "metadata": {},
     "output_type": "execute_result"
    }
   ],
   "source": [
    "uniqueProducts.count()"
   ]
  },
  {
   "cell_type": "markdown",
   "metadata": {},
   "source": [
    "### Data filtering"
   ]
  },
  {
   "cell_type": "markdown",
   "metadata": {},
   "source": [
    "Our first job is to filter out non-swiss products."
   ]
  },
  {
   "cell_type": "markdown",
   "metadata": {},
   "source": [
    "*insert here plan to achieve what explained above*"
   ]
  },
  {
   "cell_type": "code",
   "execution_count": 6,
   "metadata": {
    "collapsed": false
   },
   "outputs": [],
   "source": [
    "metaRdd = sc.textFile(\"hdfs:///datasets/amazon-reviews/metadata.json\")"
   ]
  },
  {
   "cell_type": "code",
   "execution_count": 7,
   "metadata": {
    "collapsed": false
   },
   "outputs": [],
   "source": [
    "#metaRdd = metaRdd.filter(is_json)\n",
    "#metaRdd = metaRdd.map(lambda x: json.loads(str(x)))"
   ]
  },
  {
   "cell_type": "code",
   "execution_count": 11,
   "metadata": {
    "collapsed": false
   },
   "outputs": [
    {
     "data": {
      "text/plain": [
       "\"{'asin': '0001048791', 'salesRank': {'Books': 6334800}, 'imUrl': 'http://ecx.images-amazon.com/images/I/51MKP0T4DBL.jpg', 'categories': [['Books']], 'title': 'The Crucible: Performed by Stuart Pankin, Jerome Dempsey &amp; Cast'}\""
      ]
     },
     "execution_count": 11,
     "metadata": {},
     "output_type": "execute_result"
    }
   ],
   "source": [
    "metaRdd.first()"
   ]
  },
  {
   "cell_type": "markdown",
   "metadata": {},
   "source": [
    "We'll now turn this data into JSON objects with the eval function"
   ]
  },
  {
   "cell_type": "code",
   "execution_count": 8,
   "metadata": {
    "collapsed": true
   },
   "outputs": [],
   "source": [
    "filteredRdd = metaRdd.map(lambda x: eval(x))"
   ]
  },
  {
   "cell_type": "code",
   "execution_count": 13,
   "metadata": {
    "collapsed": false,
    "scrolled": false
   },
   "outputs": [
    {
     "data": {
      "text/plain": [
       "{'asin': '0001048791',\n",
       " 'categories': [['Books']],\n",
       " 'imUrl': 'http://ecx.images-amazon.com/images/I/51MKP0T4DBL.jpg',\n",
       " 'salesRank': {'Books': 6334800},\n",
       " 'title': 'The Crucible: Performed by Stuart Pankin, Jerome Dempsey &amp; Cast'}"
      ]
     },
     "execution_count": 13,
     "metadata": {},
     "output_type": "execute_result"
    }
   ],
   "source": [
    "filteredRdd.first()"
   ]
  },
  {
   "cell_type": "markdown",
   "metadata": {},
   "source": [
    "We only keep the entires with a brand"
   ]
  },
  {
   "cell_type": "code",
   "execution_count": 9,
   "metadata": {
    "collapsed": false,
    "scrolled": true
   },
   "outputs": [
    {
     "data": {
      "text/plain": [
       "PythonRDD[4] at RDD at PythonRDD.scala:43"
      ]
     },
     "execution_count": 9,
     "metadata": {},
     "output_type": "execute_result"
    }
   ],
   "source": [
    "filteredRdd = filteredRdd.filter(lambda x: 'brand' in x)\n",
    "filteredRdd.cache()"
   ]
  },
  {
   "cell_type": "code",
   "execution_count": 15,
   "metadata": {
    "collapsed": false
   },
   "outputs": [
    {
     "data": {
      "text/plain": [
       "{'asin': '0000037214',\n",
       " 'brand': 'Big Dreams',\n",
       " 'categories': [['Clothing, Shoes & Jewelry', 'Girls'],\n",
       "  ['Clothing, Shoes & Jewelry',\n",
       "   'Novelty, Costumes & More',\n",
       "   'Costumes & Accessories',\n",
       "   'More Accessories',\n",
       "   'Kids & Baby']],\n",
       " 'imUrl': 'http://ecx.images-amazon.com/images/I/31mCncNuAZL.jpg',\n",
       " 'price': 6.99,\n",
       " 'related': {'also_viewed': ['B00JO8II76', 'B00DGN4R1Q', 'B00E1YRI4C']},\n",
       " 'salesRank': {'Clothing': 1233557},\n",
       " 'title': 'Purple Sequin Tiny Dancer Tutu Ballet Dance Fairy Princess Costume Accessory'}"
      ]
     },
     "execution_count": 15,
     "metadata": {},
     "output_type": "execute_result"
    }
   ],
   "source": [
    "filteredRdd.first()"
   ]
  },
  {
   "cell_type": "markdown",
   "metadata": {
    "collapsed": true
   },
   "source": [
    "We'll now load the list of swiss companies that we have collected in the other notebook"
   ]
  },
  {
   "cell_type": "code",
   "execution_count": 10,
   "metadata": {
    "collapsed": false
   },
   "outputs": [],
   "source": [
    "swissCompanies = pd.read_csv(\"swiss_companies.csv\")"
   ]
  },
  {
   "cell_type": "code",
   "execution_count": 11,
   "metadata": {
    "collapsed": false
   },
   "outputs": [
    {
     "data": {
      "text/html": [
       "<div>\n",
       "<table border=\"1\" class=\"dataframe\">\n",
       "  <thead>\n",
       "    <tr style=\"text-align: right;\">\n",
       "      <th></th>\n",
       "      <th>A. Favre &amp; Fils</th>\n",
       "      <th>ABB Group</th>\n",
       "      <th>ACE Limited</th>\n",
       "      <th>Actelion</th>\n",
       "      <th>Adecco</th>\n",
       "      <th>Air Glaciers</th>\n",
       "      <th>Allseas</th>\n",
       "      <th>Alpa</th>\n",
       "      <th>Alternative Bank Schweiz</th>\n",
       "      <th>AMAG</th>\n",
       "      <th>...</th>\n",
       "      <th>Flug- und Fahrzeugwerke Altenrhein</th>\n",
       "      <th>Hello</th>\n",
       "      <th>Interhandel</th>\n",
       "      <th>SAPAL</th>\n",
       "      <th>Swiss Bank Corporation</th>\n",
       "      <th>Union Bank of Switzerland</th>\n",
       "      <th>UBS.1</th>\n",
       "      <th>Swissair</th>\n",
       "      <th>Economy of Switzerland</th>\n",
       "      <th>List of restaurants in Switzerland</th>\n",
       "    </tr>\n",
       "  </thead>\n",
       "  <tbody>\n",
       "  </tbody>\n",
       "</table>\n",
       "<p>0 rows × 267 columns</p>\n",
       "</div>"
      ],
      "text/plain": [
       "Empty DataFrame\n",
       "Columns: [A. Favre & Fils, ABB Group, ACE Limited, Actelion, Adecco, Air Glaciers, Allseas, Alpa, Alternative Bank Schweiz, AMAG, Antiquorum, Arctic, Ascom, Atlanship SA, Audemars Piguet, Auto AG, AutoForm, Axpo, Bally Shoe, Bâloise, Bamix, Banque SYZ & Co SA, Barry Callebaut, Basilea Pharmaceutica, Bata Shoes, BB Biotech, BDWM Transport AG, Belair, Berne eXchange, BLS AG, Bolex, Bolliger & Mabillard, Breitling SA, Bron Elektronik, Caran d'Ache, Cargo Sous Terrain, Century Time Gems, Charriol, Chemins de fer du Jura, Chopard, Circus Knie, Knie's Kinderzoo, CityNightLine, Clariant, claro fair trade, CLS Communication, Club Airways International, Coca Cola Hellenic, Colayer, Collanos, Comlux, Compagnie Générale de Navigation sur le lac Léman, Coop, Coresystems, Création Baumann, Credit Suisse, Crypto AG, Dartfish, Darwin Airline, Denner, Digital Capital AG, Digitec, DKSH, Doppelmayr Garaventa Group, Edelweiss Air, Edipresse, EF Education, Elinchrom, Emmi AG, Era Watch Company, Expert, Feldschlösschen, Ferdinand Steck Maschinenfabrik, Festina, Firmenich, Frédérique Constant, Alpina Watches, Garmin, Gate Group, Geberit, Georg Fischer, Girard Perregaux, Givaudan, Glass's Guide, Glencore, Xstrata, Greubel Forsey, Gunvor, Heliswiss, Helvetic Airways, Hoffmann-La Roche, HSBC Private Bank, Hublot, Implenia, Ineos, Intamin, IQAir, Japan Tobacco International, Jet Aviation, Jowissa, ...]\n",
       "Index: []\n",
       "\n",
       "[0 rows x 267 columns]"
      ]
     },
     "execution_count": 11,
     "metadata": {},
     "output_type": "execute_result"
    }
   ],
   "source": [
    "swissCompanies"
   ]
  },
  {
   "cell_type": "code",
   "execution_count": 13,
   "metadata": {
    "collapsed": false
   },
   "outputs": [],
   "source": [
    "swissCompaniesList = swissCompanies.columns.values.tolist()"
   ]
  },
  {
   "cell_type": "code",
   "execution_count": 14,
   "metadata": {
    "collapsed": false,
    "scrolled": true
   },
   "outputs": [
    {
     "data": {
      "text/plain": [
       "['A. Favre & Fils',\n",
       " 'ABB Group',\n",
       " 'ACE Limited',\n",
       " 'Actelion',\n",
       " 'Adecco',\n",
       " 'Air Glaciers',\n",
       " 'Allseas',\n",
       " 'Alpa',\n",
       " 'Alternative Bank Schweiz',\n",
       " 'AMAG',\n",
       " 'Antiquorum',\n",
       " 'Arctic',\n",
       " 'Ascom',\n",
       " 'Atlanship SA',\n",
       " 'Audemars Piguet',\n",
       " 'Auto AG',\n",
       " 'AutoForm',\n",
       " 'Axpo',\n",
       " 'Bally Shoe',\n",
       " 'Bâloise',\n",
       " 'Bamix',\n",
       " 'Banque SYZ & Co SA',\n",
       " 'Barry Callebaut',\n",
       " 'Basilea Pharmaceutica',\n",
       " 'Bata Shoes',\n",
       " 'BB Biotech',\n",
       " 'BDWM Transport AG',\n",
       " 'Belair',\n",
       " 'Berne eXchange',\n",
       " 'BLS AG',\n",
       " 'Bolex',\n",
       " 'Bolliger & Mabillard',\n",
       " 'Breitling SA',\n",
       " 'Bron Elektronik',\n",
       " \"Caran d'Ache\",\n",
       " 'Cargo Sous Terrain',\n",
       " 'Century Time Gems',\n",
       " 'Charriol',\n",
       " 'Chemins de fer du Jura',\n",
       " 'Chopard',\n",
       " 'Circus Knie',\n",
       " \"Knie's Kinderzoo\",\n",
       " 'CityNightLine',\n",
       " 'Clariant',\n",
       " 'claro fair trade',\n",
       " 'CLS Communication',\n",
       " 'Club Airways International',\n",
       " 'Coca Cola Hellenic',\n",
       " 'Colayer',\n",
       " 'Collanos',\n",
       " 'Comlux',\n",
       " 'Compagnie Générale de Navigation sur le lac Léman',\n",
       " 'Coop',\n",
       " 'Coresystems',\n",
       " 'Création Baumann',\n",
       " 'Credit Suisse',\n",
       " 'Crypto AG',\n",
       " 'Dartfish',\n",
       " 'Darwin Airline',\n",
       " 'Denner',\n",
       " 'Digital Capital AG',\n",
       " 'Digitec',\n",
       " 'DKSH',\n",
       " 'Doppelmayr Garaventa Group',\n",
       " 'Edelweiss Air',\n",
       " 'Edipresse',\n",
       " 'EF Education',\n",
       " 'Elinchrom',\n",
       " 'Emmi AG',\n",
       " 'Era Watch Company',\n",
       " 'Expert',\n",
       " 'Feldschlösschen',\n",
       " 'Ferdinand Steck Maschinenfabrik',\n",
       " 'Festina',\n",
       " 'Firmenich',\n",
       " 'Frédérique Constant',\n",
       " 'Alpina Watches',\n",
       " 'Garmin',\n",
       " 'Gate Group',\n",
       " 'Geberit',\n",
       " 'Georg Fischer',\n",
       " 'Girard Perregaux',\n",
       " 'Givaudan',\n",
       " \"Glass's Guide\",\n",
       " 'Glencore',\n",
       " 'Xstrata',\n",
       " 'Greubel Forsey',\n",
       " 'Gunvor',\n",
       " 'Heliswiss',\n",
       " 'Helvetic Airways',\n",
       " 'Hoffmann-La Roche',\n",
       " 'HSBC Private Bank',\n",
       " 'Hublot',\n",
       " 'Implenia',\n",
       " 'Ineos',\n",
       " 'Intamin',\n",
       " 'IQAir',\n",
       " 'Japan Tobacco International',\n",
       " 'Jet Aviation',\n",
       " 'Jowissa',\n",
       " 'Jucker Farm',\n",
       " 'agritourism',\n",
       " 'Julius Baer Group',\n",
       " 'Kaba Group',\n",
       " 'Kamkorp',\n",
       " 'Kempinski',\n",
       " 'Kudelski Group',\n",
       " 'Kuehne + Nagel',\n",
       " 'Kuoni Travel',\n",
       " 'La Clandestine Absinthe',\n",
       " 'LafargeHolcim',\n",
       " 'Leica Geosystems',\n",
       " 'Liebherr Group',\n",
       " 'Lightning MultiCom',\n",
       " 'Limmattaler Zeitung',\n",
       " 'Lindt & Sprüngli',\n",
       " 'Lions Air',\n",
       " 'Logitech',\n",
       " 'Lonza Group',\n",
       " 'Lombard Odier & Cie',\n",
       " 'Luftseilbahn Adliswil-Felsenegg',\n",
       " 'Manor',\n",
       " 'Maurice Lacroix',\n",
       " 'MB&F',\n",
       " 'mb-microtec',\n",
       " 'Mediterranean Shipping Company',\n",
       " 'MSC Cruises',\n",
       " 'Mercuria Energy Group',\n",
       " 'Métro Lausanne-Ouchy',\n",
       " 'Mettler Toledo AG',\n",
       " 'Migros',\n",
       " 'Ex Libris',\n",
       " 'Globus',\n",
       " 'Mila',\n",
       " 'Mövenpick Hotels & Resorts',\n",
       " 'Nation-E',\n",
       " 'Nestlé',\n",
       " 'Maggi',\n",
       " 'Nexus Telecom',\n",
       " 'Nobel Biocare',\n",
       " 'Noble Corporation',\n",
       " 'Nord Stream AG',\n",
       " 'Novartis',\n",
       " 'Alcon',\n",
       " 'Sandoz',\n",
       " 'Obersee Nachrichten',\n",
       " 'OC Oerlikon',\n",
       " 'Oscilloquartz',\n",
       " 'Panalpina',\n",
       " 'Patek Philippe',\n",
       " 'Pelikan',\n",
       " 'Pictet & Cie',\n",
       " 'Pilatus Aircraft',\n",
       " 'PLATIT',\n",
       " 'PrivatAir',\n",
       " 'Radio Zürisee',\n",
       " 'Raymond Weil',\n",
       " 'Repower',\n",
       " 'Richemont',\n",
       " 'IWC',\n",
       " 'Jaeger-LeCoultre',\n",
       " 'Piaget SA',\n",
       " 'Roger Dubuis',\n",
       " 'Vacheron Constantin',\n",
       " 'Rieter',\n",
       " 'Ringier',\n",
       " 'Rivella',\n",
       " 'Rolex',\n",
       " 'RosUkrEnergo',\n",
       " 'Rotpunktverlag',\n",
       " 'Saurer',\n",
       " 'SBB-CFF-FFS',\n",
       " 'Schindler Group',\n",
       " 'Schweizerische Industrie Gesellschaft',\n",
       " 'Securitas AG',\n",
       " 'Selecta',\n",
       " 'Serono',\n",
       " 'Sersa Group',\n",
       " 'Sewa Beats',\n",
       " 'SIGG',\n",
       " 'Sihltal Zürich Uetliberg Bahn',\n",
       " 'Sika AG',\n",
       " 'Sinitus',\n",
       " 'SITA',\n",
       " 'Sky Work Airlines',\n",
       " 'Société Générale de Surveillance',\n",
       " 'Sonova',\n",
       " 'ST Ericsson',\n",
       " 'Stadler Rail',\n",
       " 'Stäubli',\n",
       " 'STMicroelectronics',\n",
       " 'Südostbahn',\n",
       " 'Sulzer',\n",
       " 'Sunrise Communications AG',\n",
       " 'Suva',\n",
       " 'Swatch Group',\n",
       " 'Blancpain',\n",
       " 'Breguet',\n",
       " 'Certina',\n",
       " 'Endura',\n",
       " 'Hamilton',\n",
       " 'Longines',\n",
       " 'Mido',\n",
       " 'Omega SA',\n",
       " 'Rado',\n",
       " 'Swatch',\n",
       " 'Tissot',\n",
       " 'Swiss International Air Lines',\n",
       " 'Swiss Global Air Lines',\n",
       " 'Swiss Life',\n",
       " 'Swiss National Bank',\n",
       " 'Swiss Private Aviation',\n",
       " 'Swiss Re',\n",
       " 'Swisscom',\n",
       " 'Swissport',\n",
       " 'Syngenta',\n",
       " 'TAG Heuer',\n",
       " 'Tamedia',\n",
       " 'TE Connectivity',\n",
       " 'Tecan',\n",
       " 'Tetra Pak',\n",
       " 'Trafigura',\n",
       " 'Transocean',\n",
       " 'u-blox',\n",
       " 'UBS',\n",
       " 'Ulysse Nardin',\n",
       " 'UPC Switzerland',\n",
       " 'Uster Technologies',\n",
       " 'Valmont Group',\n",
       " 'Victorinox',\n",
       " 'Swiss Army knives',\n",
       " 'Wenger',\n",
       " 'Vitol',\n",
       " 'Von Roll',\n",
       " 'Walter Verlag',\n",
       " 'Waltham International SA',\n",
       " 'Weatherford International',\n",
       " 'Weleda',\n",
       " 'Winterthur Group',\n",
       " 'Zenith',\n",
       " 'Zimex Aviation',\n",
       " 'Zimmerberg bus line',\n",
       " 'Zürcher Oberländer',\n",
       " 'Zurich Insurance Group',\n",
       " 'Zürichsee-Schifffahrtsgesellschaft',\n",
       " 'Zürichsee-Zeitung',\n",
       " 'Baboo',\n",
       " 'BBC',\n",
       " 'ASEA',\n",
       " 'ABB',\n",
       " 'Ciba AG',\n",
       " 'BASF',\n",
       " 'Ciba-Geigy',\n",
       " 'Sandoz.1',\n",
       " 'Novartis.1',\n",
       " 'Crossair',\n",
       " 'Swiss International Air Lines.1',\n",
       " 'Flug- und Fahrzeugwerke Altenrhein',\n",
       " 'Hello',\n",
       " 'Interhandel',\n",
       " 'SAPAL',\n",
       " 'Swiss Bank Corporation',\n",
       " 'Union Bank of Switzerland',\n",
       " 'UBS.1',\n",
       " 'Swissair',\n",
       " 'Economy of Switzerland',\n",
       " 'List of restaurants in Switzerland']"
      ]
     },
     "execution_count": 14,
     "metadata": {},
     "output_type": "execute_result"
    }
   ],
   "source": [
    "swissCompaniesList"
   ]
  },
  {
   "cell_type": "markdown",
   "metadata": {},
   "source": [
    "We will need to remove the BBC company, because even though there's a company of that name in Switzerland there's a much better known one in the UK, so this gives us too many false positive."
   ]
  },
  {
   "cell_type": "code",
   "execution_count": 15,
   "metadata": {
    "collapsed": true
   },
   "outputs": [],
   "source": [
    "swissCompaniesList.remove(\"BBC\")"
   ]
  },
  {
   "cell_type": "code",
   "execution_count": 16,
   "metadata": {
    "collapsed": false
   },
   "outputs": [
    {
     "data": {
      "text/plain": [
       "PythonRDD[5] at RDD at PythonRDD.scala:43"
      ]
     },
     "execution_count": 16,
     "metadata": {},
     "output_type": "execute_result"
    }
   ],
   "source": [
    "swissProducts = filteredRdd.filter(lambda x : x['brand'] in swissCompaniesList)\n",
    "swissProducts.cache()"
   ]
  },
  {
   "cell_type": "code",
   "execution_count": 35,
   "metadata": {
    "collapsed": false,
    "scrolled": true
   },
   "outputs": [
    {
     "data": {
      "text/plain": [
       "{'asin': '9984984354',\n",
       " 'brand': 'Garmin',\n",
       " 'categories': [['Electronics',\n",
       "   'GPS & Navigation',\n",
       "   'GPS System Accessories',\n",
       "   'Chargers & Cables']],\n",
       " 'description': 'Garmin Nuvi 1450 GPS Standard Red LED Wall / AC / Home Charger!',\n",
       " 'imUrl': 'http://ecx.images-amazon.com/images/I/3125WK0pujL._SY300_.jpg',\n",
       " 'price': 0.01,\n",
       " 'related': {'also_bought': ['B003V3TBF8',\n",
       "   'B003ZX8B2S',\n",
       "   '9985511476',\n",
       "   'B003Z56BZA',\n",
       "   'B004I5BUSO',\n",
       "   'B004HYGEOQ',\n",
       "   'B004HPSI6M',\n",
       "   'B000EGQS5G',\n",
       "   'B009AOCNXY',\n",
       "   'B009NWSKIA',\n",
       "   'B004EKEBNY',\n",
       "   'B002OL2MU4',\n",
       "   'B001BZM998',\n",
       "   '9984988236',\n",
       "   'B0079GFRTC',\n",
       "   'B006HY0Z1M',\n",
       "   'B002RL8H1Y',\n",
       "   'B0050JJU3E',\n",
       "   'B003ZX8B3W',\n",
       "   'B0037JE8VS',\n",
       "   'B004WCN00E',\n",
       "   'B008H6176U',\n",
       "   'B008CAYH1I',\n",
       "   'B002UBK04I',\n",
       "   'B001MU246A',\n",
       "   'B0086CTL5Y',\n",
       "   'B000LRMS66',\n",
       "   'B002HGEFGA',\n",
       "   'B000BM8RFM'],\n",
       "  'bought_together': ['B003V3TBF8'],\n",
       "  'buy_after_viewing': ['B004HPSI6M',\n",
       "   'B002OL2MU4',\n",
       "   'B000BMAQAQ',\n",
       "   'B0037JE8VS']},\n",
       " 'salesRank': {},\n",
       " 'title': 'Garmin Nuvi 1450 GPS Standard Red LED Wall / AC / Home Charge- Garmin Nuvi 1450 GPS'}"
      ]
     },
     "execution_count": 35,
     "metadata": {},
     "output_type": "execute_result"
    }
   ],
   "source": [
    "swissProducts.first()"
   ]
  },
  {
   "cell_type": "code",
   "execution_count": 127,
   "metadata": {
    "collapsed": false
   },
   "outputs": [
    {
     "data": {
      "text/plain": [
       "4718"
      ]
     },
     "execution_count": 127,
     "metadata": {},
     "output_type": "execute_result"
    }
   ],
   "source": [
    "swissProducts.count()"
   ]
  },
  {
   "cell_type": "markdown",
   "metadata": {},
   "source": [
    "All we really need are the asins to merge with the other RDD"
   ]
  },
  {
   "cell_type": "code",
   "execution_count": 17,
   "metadata": {
    "collapsed": false
   },
   "outputs": [
    {
     "data": {
      "text/plain": [
       "PythonRDD[6] at RDD at PythonRDD.scala:43"
      ]
     },
     "execution_count": 17,
     "metadata": {},
     "output_type": "execute_result"
    }
   ],
   "source": [
    "swissAsins = swissProducts.map(lambda x : x['asin'])\n",
    "swissAsins.cache()"
   ]
  },
  {
   "cell_type": "code",
   "execution_count": 133,
   "metadata": {
    "collapsed": false
   },
   "outputs": [
    {
     "data": {
      "text/plain": [
       "'9984984354'"
      ]
     },
     "execution_count": 133,
     "metadata": {},
     "output_type": "execute_result"
    }
   ],
   "source": [
    "swissAsins.first()"
   ]
  },
  {
   "cell_type": "markdown",
   "metadata": {},
   "source": [
    "We'll now use those asins to filter the other RDD and get the reviews of swiss products"
   ]
  },
  {
   "cell_type": "code",
   "execution_count": 18,
   "metadata": {
    "collapsed": false
   },
   "outputs": [],
   "source": [
    "swissBC = sc.broadcast(swissAsins.collect())    # better ?\n",
    "#swissBC = swissAsins.collect()"
   ]
  },
  {
   "cell_type": "code",
   "execution_count": 19,
   "metadata": {
    "collapsed": false
   },
   "outputs": [
    {
     "data": {
      "text/plain": [
       "PythonRDD[7] at RDD at PythonRDD.scala:43"
      ]
     },
     "execution_count": 19,
     "metadata": {},
     "output_type": "execute_result"
    }
   ],
   "source": [
    "swissReviews = rdd.filter(lambda x : x['asin'] in swissBC.value)  # We should also retrieve the object category to be able to group afterwards\n",
    "#or we could get the category from the RDD each time but that might cause a shuffle\n",
    "swissReviews.cache()"
   ]
  },
  {
   "cell_type": "code",
   "execution_count": 158,
   "metadata": {
    "collapsed": false,
    "scrolled": true
   },
   "outputs": [
    {
     "data": {
      "text/plain": [
       "{'asin': 'B000R9AAJA',\n",
       " 'helpful': [0, 0],\n",
       " 'overall': 5.0,\n",
       " 'reviewText': 'Speakers are loud and clear. They work great! Ive had no problens with this product. A great buy.  Sooo..... yeah.',\n",
       " 'reviewTime': '11 22, 2012',\n",
       " 'reviewerID': 'A0023922YYT81KP1CWU4',\n",
       " 'reviewerName': 'Steven Caruso',\n",
       " 'summary': 'Great!',\n",
       " 'unixReviewTime': 1353542400}"
      ]
     },
     "execution_count": 158,
     "metadata": {},
     "output_type": "execute_result"
    }
   ],
   "source": [
    "swissReviews.first()"
   ]
  },
  {
   "cell_type": "code",
   "execution_count": 161,
   "metadata": {
    "collapsed": false
   },
   "outputs": [
    {
     "data": {
      "text/plain": [
       "289878"
      ]
     },
     "execution_count": 161,
     "metadata": {},
     "output_type": "execute_result"
    }
   ],
   "source": [
    "swissReviews.count()"
   ]
  },
  {
   "cell_type": "markdown",
   "metadata": {},
   "source": [
    "On top of what's already available in the review data, it would be useful to retrieve some of the metadata (namely \"brand\" and \"categories\") and merge it for better analysis."
   ]
  },
  {
   "cell_type": "code",
   "execution_count": 20,
   "metadata": {
    "collapsed": false
   },
   "outputs": [
    {
     "data": {
      "text/plain": [
       "PythonRDD[8] at RDD at PythonRDD.scala:43"
      ]
     },
     "execution_count": 20,
     "metadata": {},
     "output_type": "execute_result"
    }
   ],
   "source": [
    "swissCategs = swissProducts.map(lambda x :{k: v for k, v in x.items() if k in ('asin', 'brand', 'categories')})\n",
    "swissCategs.cache()"
   ]
  },
  {
   "cell_type": "code",
   "execution_count": 36,
   "metadata": {
    "collapsed": false
   },
   "outputs": [
    {
     "data": {
      "text/plain": [
       "{'asin': '9984984354',\n",
       " 'brand': 'Garmin',\n",
       " 'categories': [['Electronics',\n",
       "   'GPS & Navigation',\n",
       "   'GPS System Accessories',\n",
       "   'Chargers & Cables']]}"
      ]
     },
     "execution_count": 36,
     "metadata": {},
     "output_type": "execute_result"
    }
   ],
   "source": [
    "swissCategs.first()"
   ]
  },
  {
   "cell_type": "markdown",
   "metadata": {},
   "source": [
    "We now merge swissCategs and swissReviews"
   ]
  },
  {
   "cell_type": "code",
   "execution_count": 21,
   "metadata": {
    "collapsed": false
   },
   "outputs": [
    {
     "data": {
      "text/plain": [
       "PythonRDD[10] at RDD at PythonRDD.scala:43"
      ]
     },
     "execution_count": 21,
     "metadata": {},
     "output_type": "execute_result"
    }
   ],
   "source": [
    "#swissReviewsTuple = swissReviews.keyBy(lambda x : x['asin'])   #for a key/value join, takes too much time because spark sucks\n",
    "#swissCategsTuple = swissCategs.keyBy(lambda x : x['asin'])\n",
    "#swissReviewsTuple.cache()\n",
    "#swissCategsTuple.cache()"
   ]
  },
  {
   "cell_type": "code",
   "execution_count": 22,
   "metadata": {
    "collapsed": false,
    "scrolled": true
   },
   "outputs": [
    {
     "data": {
      "text/plain": [
       "('B000R9AAJA',\n",
       " {'asin': 'B000R9AAJA',\n",
       "  'helpful': [0, 0],\n",
       "  'overall': 5.0,\n",
       "  'reviewText': 'Speakers are loud and clear. They work great! Ive had no problens with this product. A great buy.  Sooo..... yeah.',\n",
       "  'reviewTime': '11 22, 2012',\n",
       "  'reviewerID': 'A0023922YYT81KP1CWU4',\n",
       "  'reviewerName': 'Steven Caruso',\n",
       "  'summary': 'Great!',\n",
       "  'unixReviewTime': 1353542400})"
      ]
     },
     "execution_count": 22,
     "metadata": {},
     "output_type": "execute_result"
    }
   ],
   "source": [
    "#swissReviewsTuple.first()"
   ]
  },
  {
   "cell_type": "code",
   "execution_count": 45,
   "metadata": {
    "collapsed": false
   },
   "outputs": [
    {
     "name": "stderr",
     "output_type": "stream",
     "text": [
      "/usr/hdp/2.4.3.0-227/spark/python/pyspark/sql/context.py:259: UserWarning: Using RDD of dict to inferSchema is deprecated. Use pyspark.sql.Row instead\n",
      "  warnings.warn(\"Using RDD of dict to inferSchema is deprecated. \"\n"
     ]
    }
   ],
   "source": [
    "reviewsDF = sqlContext.createDataFrame(swissReviews)\n",
    "reviewsDF.cache()\n",
    "reviewsDF.registerTempTable(\"reviewsDF\")"
   ]
  },
  {
   "cell_type": "code",
   "execution_count": 49,
   "metadata": {
    "collapsed": false
   },
   "outputs": [
    {
     "name": "stderr",
     "output_type": "stream",
     "text": [
      "/usr/hdp/2.4.3.0-227/spark/python/pyspark/sql/context.py:259: UserWarning: Using RDD of dict to inferSchema is deprecated. Use pyspark.sql.Row instead\n",
      "  warnings.warn(\"Using RDD of dict to inferSchema is deprecated. \"\n"
     ]
    }
   ],
   "source": [
    "categsDF = sqlContext.createDataFrame(swissCategs)\n",
    "categsDF.cache()\n",
    "categsDF.registerTempTable(\"categsDF\")"
   ]
  },
  {
   "cell_type": "code",
   "execution_count": 50,
   "metadata": {
    "collapsed": false,
    "scrolled": true
   },
   "outputs": [],
   "source": [
    "swissReviewsComplete = sqlContext.sql(\"SELECT reviewsDF.*, categsDF.* FROM reviewsDF JOIN categsDF ON reviewsDF.asin = categsDF.asin\")"
   ]
  },
  {
   "cell_type": "code",
   "execution_count": 51,
   "metadata": {
    "collapsed": false
   },
   "outputs": [
    {
     "ename": "Py4JJavaError",
     "evalue": "An error occurred while calling z:org.apache.spark.sql.execution.EvaluatePython.takeAndServe.\n: org.apache.spark.SparkException: Job aborted due to stage failure: Task 24 in stage 41.0 failed 1 times, most recent failure: Lost task 24.0 in stage 41.0 (TID 535, localhost): java.io.FileNotFoundException: /tmp/blockmgr-aee142de-89aa-45ed-87fa-8d71253c2e24/06/temp_shuffle_8b2f4c2f-a9e9-47d6-8e69-fab7639d2830 (Too many open files)\n\tat java.io.FileOutputStream.open0(Native Method)\n\tat java.io.FileOutputStream.open(FileOutputStream.java:270)\n\tat java.io.FileOutputStream.<init>(FileOutputStream.java:213)\n\tat org.apache.spark.storage.DiskBlockObjectWriter.open(DiskBlockObjectWriter.scala:88)\n\tat org.apache.spark.shuffle.sort.BypassMergeSortShuffleWriter.write(BypassMergeSortShuffleWriter.java:140)\n\tat org.apache.spark.scheduler.ShuffleMapTask.runTask(ShuffleMapTask.scala:73)\n\tat org.apache.spark.scheduler.ShuffleMapTask.runTask(ShuffleMapTask.scala:41)\n\tat org.apache.spark.scheduler.Task.run(Task.scala:89)\n\tat org.apache.spark.executor.Executor$TaskRunner.run(Executor.scala:227)\n\tat java.util.concurrent.ThreadPoolExecutor.runWorker(ThreadPoolExecutor.java:1142)\n\tat java.util.concurrent.ThreadPoolExecutor$Worker.run(ThreadPoolExecutor.java:617)\n\tat java.lang.Thread.run(Thread.java:745)\n\nDriver stacktrace:\n\tat org.apache.spark.scheduler.DAGScheduler.org$apache$spark$scheduler$DAGScheduler$$failJobAndIndependentStages(DAGScheduler.scala:1433)\n\tat org.apache.spark.scheduler.DAGScheduler$$anonfun$abortStage$1.apply(DAGScheduler.scala:1421)\n\tat org.apache.spark.scheduler.DAGScheduler$$anonfun$abortStage$1.apply(DAGScheduler.scala:1420)\n\tat scala.collection.mutable.ResizableArray$class.foreach(ResizableArray.scala:59)\n\tat scala.collection.mutable.ArrayBuffer.foreach(ArrayBuffer.scala:47)\n\tat org.apache.spark.scheduler.DAGScheduler.abortStage(DAGScheduler.scala:1420)\n\tat org.apache.spark.scheduler.DAGScheduler$$anonfun$handleTaskSetFailed$1.apply(DAGScheduler.scala:801)\n\tat org.apache.spark.scheduler.DAGScheduler$$anonfun$handleTaskSetFailed$1.apply(DAGScheduler.scala:801)\n\tat scala.Option.foreach(Option.scala:236)\n\tat org.apache.spark.scheduler.DAGScheduler.handleTaskSetFailed(DAGScheduler.scala:801)\n\tat org.apache.spark.scheduler.DAGSchedulerEventProcessLoop.doOnReceive(DAGScheduler.scala:1642)\n\tat org.apache.spark.scheduler.DAGSchedulerEventProcessLoop.onReceive(DAGScheduler.scala:1601)\n\tat org.apache.spark.scheduler.DAGSchedulerEventProcessLoop.onReceive(DAGScheduler.scala:1590)\n\tat org.apache.spark.util.EventLoop$$anon$1.run(EventLoop.scala:48)\n\tat org.apache.spark.scheduler.DAGScheduler.runJob(DAGScheduler.scala:622)\n\tat org.apache.spark.SparkContext.runJob(SparkContext.scala:1856)\n\tat org.apache.spark.SparkContext.runJob(SparkContext.scala:1869)\n\tat org.apache.spark.SparkContext.runJob(SparkContext.scala:1882)\n\tat org.apache.spark.sql.execution.SparkPlan.executeTake(SparkPlan.scala:212)\n\tat org.apache.spark.sql.execution.EvaluatePython$$anonfun$takeAndServe$1.apply$mcI$sp(python.scala:126)\n\tat org.apache.spark.sql.execution.EvaluatePython$$anonfun$takeAndServe$1.apply(python.scala:124)\n\tat org.apache.spark.sql.execution.EvaluatePython$$anonfun$takeAndServe$1.apply(python.scala:124)\n\tat org.apache.spark.sql.execution.SQLExecution$.withNewExecutionId(SQLExecution.scala:56)\n\tat org.apache.spark.sql.DataFrame.withNewExecutionId(DataFrame.scala:2086)\n\tat org.apache.spark.sql.execution.EvaluatePython$.takeAndServe(python.scala:124)\n\tat org.apache.spark.sql.execution.EvaluatePython.takeAndServe(python.scala)\n\tat sun.reflect.NativeMethodAccessorImpl.invoke0(Native Method)\n\tat sun.reflect.NativeMethodAccessorImpl.invoke(NativeMethodAccessorImpl.java:62)\n\tat sun.reflect.DelegatingMethodAccessorImpl.invoke(DelegatingMethodAccessorImpl.java:43)\n\tat java.lang.reflect.Method.invoke(Method.java:497)\n\tat py4j.reflection.MethodInvoker.invoke(MethodInvoker.java:231)\n\tat py4j.reflection.ReflectionEngine.invoke(ReflectionEngine.java:381)\n\tat py4j.Gateway.invoke(Gateway.java:259)\n\tat py4j.commands.AbstractCommand.invokeMethod(AbstractCommand.java:133)\n\tat py4j.commands.CallCommand.execute(CallCommand.java:79)\n\tat py4j.GatewayConnection.run(GatewayConnection.java:209)\n\tat java.lang.Thread.run(Thread.java:745)\nCaused by: java.io.FileNotFoundException: /tmp/blockmgr-aee142de-89aa-45ed-87fa-8d71253c2e24/06/temp_shuffle_8b2f4c2f-a9e9-47d6-8e69-fab7639d2830 (Too many open files)\n\tat java.io.FileOutputStream.open0(Native Method)\n\tat java.io.FileOutputStream.open(FileOutputStream.java:270)\n\tat java.io.FileOutputStream.<init>(FileOutputStream.java:213)\n\tat org.apache.spark.storage.DiskBlockObjectWriter.open(DiskBlockObjectWriter.scala:88)\n\tat org.apache.spark.shuffle.sort.BypassMergeSortShuffleWriter.write(BypassMergeSortShuffleWriter.java:140)\n\tat org.apache.spark.scheduler.ShuffleMapTask.runTask(ShuffleMapTask.scala:73)\n\tat org.apache.spark.scheduler.ShuffleMapTask.runTask(ShuffleMapTask.scala:41)\n\tat org.apache.spark.scheduler.Task.run(Task.scala:89)\n\tat org.apache.spark.executor.Executor$TaskRunner.run(Executor.scala:227)\n\tat java.util.concurrent.ThreadPoolExecutor.runWorker(ThreadPoolExecutor.java:1142)\n\tat java.util.concurrent.ThreadPoolExecutor$Worker.run(ThreadPoolExecutor.java:617)\n\t... 1 more\n",
     "output_type": "error",
     "traceback": [
      "\u001b[1;31m---------------------------------------------------------------------------\u001b[0m",
      "\u001b[1;31mPy4JJavaError\u001b[0m                             Traceback (most recent call last)",
      "\u001b[1;32m<ipython-input-51-defdce128e35>\u001b[0m in \u001b[0;36m<module>\u001b[1;34m()\u001b[0m\n\u001b[1;32m----> 1\u001b[1;33m \u001b[0mswissReviewsComplete\u001b[0m\u001b[1;33m.\u001b[0m\u001b[0mfirst\u001b[0m\u001b[1;33m(\u001b[0m\u001b[1;33m)\u001b[0m\u001b[1;33m\u001b[0m\u001b[0m\n\u001b[0m",
      "\u001b[1;32m/usr/hdp/2.4.3.0-227/spark/python/pyspark/sql/dataframe.py\u001b[0m in \u001b[0;36mfirst\u001b[1;34m(self)\u001b[0m\n\u001b[0;32m    802\u001b[0m         \u001b[0mRow\u001b[0m\u001b[1;33m(\u001b[0m\u001b[0mage\u001b[0m\u001b[1;33m=\u001b[0m\u001b[1;36m2\u001b[0m\u001b[1;33m,\u001b[0m \u001b[0mname\u001b[0m\u001b[1;33m=\u001b[0m\u001b[1;34mu'Alice'\u001b[0m\u001b[1;33m)\u001b[0m\u001b[1;33m\u001b[0m\u001b[0m\n\u001b[0;32m    803\u001b[0m         \"\"\"\n\u001b[1;32m--> 804\u001b[1;33m         \u001b[1;32mreturn\u001b[0m \u001b[0mself\u001b[0m\u001b[1;33m.\u001b[0m\u001b[0mhead\u001b[0m\u001b[1;33m(\u001b[0m\u001b[1;33m)\u001b[0m\u001b[1;33m\u001b[0m\u001b[0m\n\u001b[0m\u001b[0;32m    805\u001b[0m \u001b[1;33m\u001b[0m\u001b[0m\n\u001b[0;32m    806\u001b[0m     \u001b[1;33m@\u001b[0m\u001b[0mignore_unicode_prefix\u001b[0m\u001b[1;33m\u001b[0m\u001b[0m\n",
      "\u001b[1;32m/usr/hdp/2.4.3.0-227/spark/python/pyspark/sql/dataframe.py\u001b[0m in \u001b[0;36mhead\u001b[1;34m(self, n)\u001b[0m\n\u001b[0;32m    790\u001b[0m         \"\"\"\n\u001b[0;32m    791\u001b[0m         \u001b[1;32mif\u001b[0m \u001b[0mn\u001b[0m \u001b[1;32mis\u001b[0m \u001b[1;32mNone\u001b[0m\u001b[1;33m:\u001b[0m\u001b[1;33m\u001b[0m\u001b[0m\n\u001b[1;32m--> 792\u001b[1;33m             \u001b[0mrs\u001b[0m \u001b[1;33m=\u001b[0m \u001b[0mself\u001b[0m\u001b[1;33m.\u001b[0m\u001b[0mhead\u001b[0m\u001b[1;33m(\u001b[0m\u001b[1;36m1\u001b[0m\u001b[1;33m)\u001b[0m\u001b[1;33m\u001b[0m\u001b[0m\n\u001b[0m\u001b[0;32m    793\u001b[0m             \u001b[1;32mreturn\u001b[0m \u001b[0mrs\u001b[0m\u001b[1;33m[\u001b[0m\u001b[1;36m0\u001b[0m\u001b[1;33m]\u001b[0m \u001b[1;32mif\u001b[0m \u001b[0mrs\u001b[0m \u001b[1;32melse\u001b[0m \u001b[1;32mNone\u001b[0m\u001b[1;33m\u001b[0m\u001b[0m\n\u001b[0;32m    794\u001b[0m         \u001b[1;32mreturn\u001b[0m \u001b[0mself\u001b[0m\u001b[1;33m.\u001b[0m\u001b[0mtake\u001b[0m\u001b[1;33m(\u001b[0m\u001b[0mn\u001b[0m\u001b[1;33m)\u001b[0m\u001b[1;33m\u001b[0m\u001b[0m\n",
      "\u001b[1;32m/usr/hdp/2.4.3.0-227/spark/python/pyspark/sql/dataframe.py\u001b[0m in \u001b[0;36mhead\u001b[1;34m(self, n)\u001b[0m\n\u001b[0;32m    792\u001b[0m             \u001b[0mrs\u001b[0m \u001b[1;33m=\u001b[0m \u001b[0mself\u001b[0m\u001b[1;33m.\u001b[0m\u001b[0mhead\u001b[0m\u001b[1;33m(\u001b[0m\u001b[1;36m1\u001b[0m\u001b[1;33m)\u001b[0m\u001b[1;33m\u001b[0m\u001b[0m\n\u001b[0;32m    793\u001b[0m             \u001b[1;32mreturn\u001b[0m \u001b[0mrs\u001b[0m\u001b[1;33m[\u001b[0m\u001b[1;36m0\u001b[0m\u001b[1;33m]\u001b[0m \u001b[1;32mif\u001b[0m \u001b[0mrs\u001b[0m \u001b[1;32melse\u001b[0m \u001b[1;32mNone\u001b[0m\u001b[1;33m\u001b[0m\u001b[0m\n\u001b[1;32m--> 794\u001b[1;33m         \u001b[1;32mreturn\u001b[0m \u001b[0mself\u001b[0m\u001b[1;33m.\u001b[0m\u001b[0mtake\u001b[0m\u001b[1;33m(\u001b[0m\u001b[0mn\u001b[0m\u001b[1;33m)\u001b[0m\u001b[1;33m\u001b[0m\u001b[0m\n\u001b[0m\u001b[0;32m    795\u001b[0m \u001b[1;33m\u001b[0m\u001b[0m\n\u001b[0;32m    796\u001b[0m     \u001b[1;33m@\u001b[0m\u001b[0mignore_unicode_prefix\u001b[0m\u001b[1;33m\u001b[0m\u001b[0m\n",
      "\u001b[1;32m/usr/hdp/2.4.3.0-227/spark/python/pyspark/sql/dataframe.py\u001b[0m in \u001b[0;36mtake\u001b[1;34m(self, num)\u001b[0m\n\u001b[0;32m    304\u001b[0m         \u001b[1;32mwith\u001b[0m \u001b[0mSCCallSiteSync\u001b[0m\u001b[1;33m(\u001b[0m\u001b[0mself\u001b[0m\u001b[1;33m.\u001b[0m\u001b[0m_sc\u001b[0m\u001b[1;33m)\u001b[0m \u001b[1;32mas\u001b[0m \u001b[0mcss\u001b[0m\u001b[1;33m:\u001b[0m\u001b[1;33m\u001b[0m\u001b[0m\n\u001b[0;32m    305\u001b[0m             port = self._sc._jvm.org.apache.spark.sql.execution.EvaluatePython.takeAndServe(\n\u001b[1;32m--> 306\u001b[1;33m                 self._jdf, num)\n\u001b[0m\u001b[0;32m    307\u001b[0m         \u001b[1;32mreturn\u001b[0m \u001b[0mlist\u001b[0m\u001b[1;33m(\u001b[0m\u001b[0m_load_from_socket\u001b[0m\u001b[1;33m(\u001b[0m\u001b[0mport\u001b[0m\u001b[1;33m,\u001b[0m \u001b[0mBatchedSerializer\u001b[0m\u001b[1;33m(\u001b[0m\u001b[0mPickleSerializer\u001b[0m\u001b[1;33m(\u001b[0m\u001b[1;33m)\u001b[0m\u001b[1;33m)\u001b[0m\u001b[1;33m)\u001b[0m\u001b[1;33m)\u001b[0m\u001b[1;33m\u001b[0m\u001b[0m\n\u001b[0;32m    308\u001b[0m \u001b[1;33m\u001b[0m\u001b[0m\n",
      "\u001b[1;32m/usr/hdp/2.4.3.0-227/spark/python/lib/py4j-0.9-src.zip/py4j/java_gateway.py\u001b[0m in \u001b[0;36m__call__\u001b[1;34m(self, *args)\u001b[0m\n\u001b[0;32m    811\u001b[0m         \u001b[0manswer\u001b[0m \u001b[1;33m=\u001b[0m \u001b[0mself\u001b[0m\u001b[1;33m.\u001b[0m\u001b[0mgateway_client\u001b[0m\u001b[1;33m.\u001b[0m\u001b[0msend_command\u001b[0m\u001b[1;33m(\u001b[0m\u001b[0mcommand\u001b[0m\u001b[1;33m)\u001b[0m\u001b[1;33m\u001b[0m\u001b[0m\n\u001b[0;32m    812\u001b[0m         return_value = get_return_value(\n\u001b[1;32m--> 813\u001b[1;33m             answer, self.gateway_client, self.target_id, self.name)\n\u001b[0m\u001b[0;32m    814\u001b[0m \u001b[1;33m\u001b[0m\u001b[0m\n\u001b[0;32m    815\u001b[0m         \u001b[1;32mfor\u001b[0m \u001b[0mtemp_arg\u001b[0m \u001b[1;32min\u001b[0m \u001b[0mtemp_args\u001b[0m\u001b[1;33m:\u001b[0m\u001b[1;33m\u001b[0m\u001b[0m\n",
      "\u001b[1;32m/usr/hdp/2.4.3.0-227/spark/python/pyspark/sql/utils.py\u001b[0m in \u001b[0;36mdeco\u001b[1;34m(*a, **kw)\u001b[0m\n\u001b[0;32m     43\u001b[0m     \u001b[1;32mdef\u001b[0m \u001b[0mdeco\u001b[0m\u001b[1;33m(\u001b[0m\u001b[1;33m*\u001b[0m\u001b[0ma\u001b[0m\u001b[1;33m,\u001b[0m \u001b[1;33m**\u001b[0m\u001b[0mkw\u001b[0m\u001b[1;33m)\u001b[0m\u001b[1;33m:\u001b[0m\u001b[1;33m\u001b[0m\u001b[0m\n\u001b[0;32m     44\u001b[0m         \u001b[1;32mtry\u001b[0m\u001b[1;33m:\u001b[0m\u001b[1;33m\u001b[0m\u001b[0m\n\u001b[1;32m---> 45\u001b[1;33m             \u001b[1;32mreturn\u001b[0m \u001b[0mf\u001b[0m\u001b[1;33m(\u001b[0m\u001b[1;33m*\u001b[0m\u001b[0ma\u001b[0m\u001b[1;33m,\u001b[0m \u001b[1;33m**\u001b[0m\u001b[0mkw\u001b[0m\u001b[1;33m)\u001b[0m\u001b[1;33m\u001b[0m\u001b[0m\n\u001b[0m\u001b[0;32m     46\u001b[0m         \u001b[1;32mexcept\u001b[0m \u001b[0mpy4j\u001b[0m\u001b[1;33m.\u001b[0m\u001b[0mprotocol\u001b[0m\u001b[1;33m.\u001b[0m\u001b[0mPy4JJavaError\u001b[0m \u001b[1;32mas\u001b[0m \u001b[0me\u001b[0m\u001b[1;33m:\u001b[0m\u001b[1;33m\u001b[0m\u001b[0m\n\u001b[0;32m     47\u001b[0m             \u001b[0ms\u001b[0m \u001b[1;33m=\u001b[0m \u001b[0me\u001b[0m\u001b[1;33m.\u001b[0m\u001b[0mjava_exception\u001b[0m\u001b[1;33m.\u001b[0m\u001b[0mtoString\u001b[0m\u001b[1;33m(\u001b[0m\u001b[1;33m)\u001b[0m\u001b[1;33m\u001b[0m\u001b[0m\n",
      "\u001b[1;32m/usr/hdp/2.4.3.0-227/spark/python/lib/py4j-0.9-src.zip/py4j/protocol.py\u001b[0m in \u001b[0;36mget_return_value\u001b[1;34m(answer, gateway_client, target_id, name)\u001b[0m\n\u001b[0;32m    306\u001b[0m                 raise Py4JJavaError(\n\u001b[0;32m    307\u001b[0m                     \u001b[1;34m\"An error occurred while calling {0}{1}{2}.\\n\"\u001b[0m\u001b[1;33m.\u001b[0m\u001b[1;33m\u001b[0m\u001b[0m\n\u001b[1;32m--> 308\u001b[1;33m                     format(target_id, \".\", name), value)\n\u001b[0m\u001b[0;32m    309\u001b[0m             \u001b[1;32melse\u001b[0m\u001b[1;33m:\u001b[0m\u001b[1;33m\u001b[0m\u001b[0m\n\u001b[0;32m    310\u001b[0m                 raise Py4JError(\n",
      "\u001b[1;31mPy4JJavaError\u001b[0m: An error occurred while calling z:org.apache.spark.sql.execution.EvaluatePython.takeAndServe.\n: org.apache.spark.SparkException: Job aborted due to stage failure: Task 24 in stage 41.0 failed 1 times, most recent failure: Lost task 24.0 in stage 41.0 (TID 535, localhost): java.io.FileNotFoundException: /tmp/blockmgr-aee142de-89aa-45ed-87fa-8d71253c2e24/06/temp_shuffle_8b2f4c2f-a9e9-47d6-8e69-fab7639d2830 (Too many open files)\n\tat java.io.FileOutputStream.open0(Native Method)\n\tat java.io.FileOutputStream.open(FileOutputStream.java:270)\n\tat java.io.FileOutputStream.<init>(FileOutputStream.java:213)\n\tat org.apache.spark.storage.DiskBlockObjectWriter.open(DiskBlockObjectWriter.scala:88)\n\tat org.apache.spark.shuffle.sort.BypassMergeSortShuffleWriter.write(BypassMergeSortShuffleWriter.java:140)\n\tat org.apache.spark.scheduler.ShuffleMapTask.runTask(ShuffleMapTask.scala:73)\n\tat org.apache.spark.scheduler.ShuffleMapTask.runTask(ShuffleMapTask.scala:41)\n\tat org.apache.spark.scheduler.Task.run(Task.scala:89)\n\tat org.apache.spark.executor.Executor$TaskRunner.run(Executor.scala:227)\n\tat java.util.concurrent.ThreadPoolExecutor.runWorker(ThreadPoolExecutor.java:1142)\n\tat java.util.concurrent.ThreadPoolExecutor$Worker.run(ThreadPoolExecutor.java:617)\n\tat java.lang.Thread.run(Thread.java:745)\n\nDriver stacktrace:\n\tat org.apache.spark.scheduler.DAGScheduler.org$apache$spark$scheduler$DAGScheduler$$failJobAndIndependentStages(DAGScheduler.scala:1433)\n\tat org.apache.spark.scheduler.DAGScheduler$$anonfun$abortStage$1.apply(DAGScheduler.scala:1421)\n\tat org.apache.spark.scheduler.DAGScheduler$$anonfun$abortStage$1.apply(DAGScheduler.scala:1420)\n\tat scala.collection.mutable.ResizableArray$class.foreach(ResizableArray.scala:59)\n\tat scala.collection.mutable.ArrayBuffer.foreach(ArrayBuffer.scala:47)\n\tat org.apache.spark.scheduler.DAGScheduler.abortStage(DAGScheduler.scala:1420)\n\tat org.apache.spark.scheduler.DAGScheduler$$anonfun$handleTaskSetFailed$1.apply(DAGScheduler.scala:801)\n\tat org.apache.spark.scheduler.DAGScheduler$$anonfun$handleTaskSetFailed$1.apply(DAGScheduler.scala:801)\n\tat scala.Option.foreach(Option.scala:236)\n\tat org.apache.spark.scheduler.DAGScheduler.handleTaskSetFailed(DAGScheduler.scala:801)\n\tat org.apache.spark.scheduler.DAGSchedulerEventProcessLoop.doOnReceive(DAGScheduler.scala:1642)\n\tat org.apache.spark.scheduler.DAGSchedulerEventProcessLoop.onReceive(DAGScheduler.scala:1601)\n\tat org.apache.spark.scheduler.DAGSchedulerEventProcessLoop.onReceive(DAGScheduler.scala:1590)\n\tat org.apache.spark.util.EventLoop$$anon$1.run(EventLoop.scala:48)\n\tat org.apache.spark.scheduler.DAGScheduler.runJob(DAGScheduler.scala:622)\n\tat org.apache.spark.SparkContext.runJob(SparkContext.scala:1856)\n\tat org.apache.spark.SparkContext.runJob(SparkContext.scala:1869)\n\tat org.apache.spark.SparkContext.runJob(SparkContext.scala:1882)\n\tat org.apache.spark.sql.execution.SparkPlan.executeTake(SparkPlan.scala:212)\n\tat org.apache.spark.sql.execution.EvaluatePython$$anonfun$takeAndServe$1.apply$mcI$sp(python.scala:126)\n\tat org.apache.spark.sql.execution.EvaluatePython$$anonfun$takeAndServe$1.apply(python.scala:124)\n\tat org.apache.spark.sql.execution.EvaluatePython$$anonfun$takeAndServe$1.apply(python.scala:124)\n\tat org.apache.spark.sql.execution.SQLExecution$.withNewExecutionId(SQLExecution.scala:56)\n\tat org.apache.spark.sql.DataFrame.withNewExecutionId(DataFrame.scala:2086)\n\tat org.apache.spark.sql.execution.EvaluatePython$.takeAndServe(python.scala:124)\n\tat org.apache.spark.sql.execution.EvaluatePython.takeAndServe(python.scala)\n\tat sun.reflect.NativeMethodAccessorImpl.invoke0(Native Method)\n\tat sun.reflect.NativeMethodAccessorImpl.invoke(NativeMethodAccessorImpl.java:62)\n\tat sun.reflect.DelegatingMethodAccessorImpl.invoke(DelegatingMethodAccessorImpl.java:43)\n\tat java.lang.reflect.Method.invoke(Method.java:497)\n\tat py4j.reflection.MethodInvoker.invoke(MethodInvoker.java:231)\n\tat py4j.reflection.ReflectionEngine.invoke(ReflectionEngine.java:381)\n\tat py4j.Gateway.invoke(Gateway.java:259)\n\tat py4j.commands.AbstractCommand.invokeMethod(AbstractCommand.java:133)\n\tat py4j.commands.CallCommand.execute(CallCommand.java:79)\n\tat py4j.GatewayConnection.run(GatewayConnection.java:209)\n\tat java.lang.Thread.run(Thread.java:745)\nCaused by: java.io.FileNotFoundException: /tmp/blockmgr-aee142de-89aa-45ed-87fa-8d71253c2e24/06/temp_shuffle_8b2f4c2f-a9e9-47d6-8e69-fab7639d2830 (Too many open files)\n\tat java.io.FileOutputStream.open0(Native Method)\n\tat java.io.FileOutputStream.open(FileOutputStream.java:270)\n\tat java.io.FileOutputStream.<init>(FileOutputStream.java:213)\n\tat org.apache.spark.storage.DiskBlockObjectWriter.open(DiskBlockObjectWriter.scala:88)\n\tat org.apache.spark.shuffle.sort.BypassMergeSortShuffleWriter.write(BypassMergeSortShuffleWriter.java:140)\n\tat org.apache.spark.scheduler.ShuffleMapTask.runTask(ShuffleMapTask.scala:73)\n\tat org.apache.spark.scheduler.ShuffleMapTask.runTask(ShuffleMapTask.scala:41)\n\tat org.apache.spark.scheduler.Task.run(Task.scala:89)\n\tat org.apache.spark.executor.Executor$TaskRunner.run(Executor.scala:227)\n\tat java.util.concurrent.ThreadPoolExecutor.runWorker(ThreadPoolExecutor.java:1142)\n\tat java.util.concurrent.ThreadPoolExecutor$Worker.run(ThreadPoolExecutor.java:617)\n\t... 1 more\n"
     ]
    }
   ],
   "source": [
    "swissReviewsComplete.first()"
   ]
  },
  {
   "cell_type": "markdown",
   "metadata": {},
   "source": [
    "# Analysis"
   ]
  },
  {
   "cell_type": "markdown",
   "metadata": {},
   "source": [
    "We now have the set of reviews on swiss products and will analyse it, first let's just look at the raw average of review score for swiss products"
   ]
  },
  {
   "cell_type": "code",
   "execution_count": 163,
   "metadata": {
    "collapsed": false
   },
   "outputs": [
    {
     "data": {
      "text/plain": [
       "4.1954684384465155"
      ]
     },
     "execution_count": 163,
     "metadata": {},
     "output_type": "execute_result"
    }
   ],
   "source": [
    "swissReviews.map(lambda x: x['overall']).mean()"
   ]
  },
  {
   "cell_type": "code",
   "execution_count": 167,
   "metadata": {
    "collapsed": false
   },
   "outputs": [
    {
     "data": {
      "text/plain": [
       "1.2347642155855174"
      ]
     },
     "execution_count": 167,
     "metadata": {},
     "output_type": "execute_result"
    }
   ],
   "source": [
    "swissReviews.map(lambda x: x['overall']).stdev()"
   ]
  },
  {
   "cell_type": "code",
   "execution_count": 183,
   "metadata": {
    "collapsed": false
   },
   "outputs": [
    {
     "data": {
      "text/plain": [
       "([1.0, 1.8, 2.6, 3.4000000000000004, 4.2, 5.0],\n",
       " [21889, 15083, 21604, 57203, 174099])"
      ]
     },
     "execution_count": 183,
     "metadata": {},
     "output_type": "execute_result"
    }
   ],
   "source": [
    "swissReviews.map(lambda x: x['overall']).histogram(5)"
   ]
  },
  {
   "cell_type": "markdown",
   "metadata": {},
   "source": [
    "So we have a pretty high mean, but a significant standard deviation.\n",
    "We'll now look at the average of all products (including those from Switzerland, since they only represent 289878/152262068 = 0.19% of the total reviews we can count them in without it having a significant effect on the total.\n",
    "\n",
    "Since we have to chare the cluster with other peope and the total corpus is pretty big, we might have to use samples instead of the whole data from time to time\n"
   ]
  },
  {
   "cell_type": "code",
   "execution_count": 174,
   "metadata": {
    "collapsed": false
   },
   "outputs": [
    {
     "data": {
      "text/plain": [
       "PythonRDD[139] at RDD at PythonRDD.scala:43"
      ]
     },
     "execution_count": 174,
     "metadata": {},
     "output_type": "execute_result"
    }
   ],
   "source": [
    "rdd.cache()"
   ]
  },
  {
   "cell_type": "code",
   "execution_count": 168,
   "metadata": {
    "collapsed": false
   },
   "outputs": [
    {
     "data": {
      "text/plain": [
       "4.193943779257283"
      ]
     },
     "execution_count": 168,
     "metadata": {},
     "output_type": "execute_result"
    }
   ],
   "source": [
    "#meanApprox(long timeout, double confidence)\n",
    "rdd.map(lambda x: x['overall']).mean()"
   ]
  },
  {
   "cell_type": "code",
   "execution_count": 180,
   "metadata": {
    "collapsed": false
   },
   "outputs": [
    {
     "data": {
      "text/plain": [
       "1.2287715803240447"
      ]
     },
     "execution_count": 180,
     "metadata": {},
     "output_type": "execute_result"
    }
   ],
   "source": [
    "#sampleStdev()\n",
    "rdd.map(lambda x: x['overall']).sampleStdev()"
   ]
  },
  {
   "cell_type": "markdown",
   "metadata": {},
   "source": [
    "So it seems as if rating wise, there's not a big difference between swiss products and those from other countries. To look for more correlations we'll try different approaches such as sentiment analysis and splitting reviews into categories"
   ]
  },
  {
   "cell_type": "markdown",
   "metadata": {},
   "source": [
    "# SWISS PRODUCTS"
   ]
  },
  {
   "cell_type": "markdown",
   "metadata": {},
   "source": [
    "Since the total of swiss reviews is relatively small (288K) it's acceptable to turn all of it into a dataframe.\n",
    "We will also use save it in a csv file. The size should be small enough, since the base data is 20GB and swiss data represents 0.14% of it, the expected size of the file should be 28MB"
   ]
  },
  {
   "cell_type": "code",
   "execution_count": 3,
   "metadata": {
    "collapsed": false
   },
   "outputs": [],
   "source": [
    "import numpy as np\n",
    "import matplotlib\n",
    "import matplotlib.pyplot as plt\n",
    "\n",
    "%matplotlib inline\n",
    "#from wordcloud import WordCloud"
   ]
  },
  {
   "cell_type": "code",
   "execution_count": 53,
   "metadata": {
    "collapsed": false
   },
   "outputs": [
    {
     "name": "stderr",
     "output_type": "stream",
     "text": [
      "/usr/hdp/2.4.3.0-227/spark/python/pyspark/sql/context.py:259: UserWarning: Using RDD of dict to inferSchema is deprecated. Use pyspark.sql.Row instead\n",
      "  warnings.warn(\"Using RDD of dict to inferSchema is deprecated. \"\n"
     ]
    }
   ],
   "source": [
    "categsDF = swissCategs.toDF()"
   ]
  },
  {
   "cell_type": "code",
   "execution_count": 54,
   "metadata": {
    "collapsed": true
   },
   "outputs": [],
   "source": [
    "categsDF = categsDF.toPandas()"
   ]
  },
  {
   "cell_type": "code",
   "execution_count": 55,
   "metadata": {
    "collapsed": true
   },
   "outputs": [],
   "source": [
    "categsDF.to_csv(\"swiss_categs.csv\")"
   ]
  },
  {
   "cell_type": "code",
   "execution_count": 56,
   "metadata": {
    "collapsed": false
   },
   "outputs": [
    {
     "data": {
      "text/html": [
       "<div>\n",
       "<table border=\"1\" class=\"dataframe\">\n",
       "  <thead>\n",
       "    <tr style=\"text-align: right;\">\n",
       "      <th></th>\n",
       "      <th>asin</th>\n",
       "      <th>brand</th>\n",
       "      <th>categories</th>\n",
       "    </tr>\n",
       "  </thead>\n",
       "  <tbody>\n",
       "    <tr>\n",
       "      <th>0</th>\n",
       "      <td>9984984354</td>\n",
       "      <td>Garmin</td>\n",
       "      <td>[[Electronics, GPS &amp; Navigation, GPS System Ac...</td>\n",
       "    </tr>\n",
       "    <tr>\n",
       "      <th>1</th>\n",
       "      <td>B00000ISY1</td>\n",
       "      <td>Selecta</td>\n",
       "      <td>[[Toys &amp; Games, Puzzles, Pegged Puzzles]]</td>\n",
       "    </tr>\n",
       "    <tr>\n",
       "      <th>2</th>\n",
       "      <td>B00000JXTC</td>\n",
       "      <td>Selecta</td>\n",
       "      <td>[[Baby]]</td>\n",
       "    </tr>\n",
       "    <tr>\n",
       "      <th>3</th>\n",
       "      <td>B00001U07N</td>\n",
       "      <td>Logitech</td>\n",
       "      <td>[[Electronics, Computers &amp; Accessories, Webcams]]</td>\n",
       "    </tr>\n",
       "    <tr>\n",
       "      <th>4</th>\n",
       "      <td>B0000224UE</td>\n",
       "      <td>Victorinox</td>\n",
       "      <td>[[Sports &amp; Outdoors, Outdoor Gear, Camping &amp; H...</td>\n",
       "    </tr>\n",
       "  </tbody>\n",
       "</table>\n",
       "</div>"
      ],
      "text/plain": [
       "         asin       brand                                         categories\n",
       "0  9984984354      Garmin  [[Electronics, GPS & Navigation, GPS System Ac...\n",
       "1  B00000ISY1     Selecta          [[Toys & Games, Puzzles, Pegged Puzzles]]\n",
       "2  B00000JXTC     Selecta                                           [[Baby]]\n",
       "3  B00001U07N    Logitech  [[Electronics, Computers & Accessories, Webcams]]\n",
       "4  B0000224UE  Victorinox  [[Sports & Outdoors, Outdoor Gear, Camping & H..."
      ]
     },
     "execution_count": 56,
     "metadata": {},
     "output_type": "execute_result"
    }
   ],
   "source": [
    "categsDF.head()"
   ]
  },
  {
   "cell_type": "code",
   "execution_count": 4,
   "metadata": {
    "collapsed": false
   },
   "outputs": [],
   "source": [
    "#swissDF = swissReviews.toDF()\n",
    "#swissDF = swiss.toPandas()\n",
    "#swissDF.to_csv(\"swiss_reviews.csv\")\n",
    "swissDF  = pd.read_csv(\"swiss_reviews.csv\")"
   ]
  },
  {
   "cell_type": "code",
   "execution_count": 5,
   "metadata": {
    "collapsed": false
   },
   "outputs": [
    {
     "data": {
      "text/html": [
       "<div>\n",
       "<table border=\"1\" class=\"dataframe\">\n",
       "  <thead>\n",
       "    <tr style=\"text-align: right;\">\n",
       "      <th></th>\n",
       "      <th>asin</th>\n",
       "      <th>helpful</th>\n",
       "      <th>overall</th>\n",
       "      <th>reviewText</th>\n",
       "      <th>reviewTime</th>\n",
       "      <th>reviewerID</th>\n",
       "      <th>reviewerName</th>\n",
       "      <th>summary</th>\n",
       "      <th>unixReviewTime</th>\n",
       "    </tr>\n",
       "  </thead>\n",
       "  <tbody>\n",
       "    <tr>\n",
       "      <th>0</th>\n",
       "      <td>B000R9AAJA</td>\n",
       "      <td>[0, 0]</td>\n",
       "      <td>5.0</td>\n",
       "      <td>Speakers are loud and clear. They work great! ...</td>\n",
       "      <td>11 22, 2012</td>\n",
       "      <td>A0023922YYT81KP1CWU4</td>\n",
       "      <td>Steven Caruso</td>\n",
       "      <td>Great!</td>\n",
       "      <td>1353542400</td>\n",
       "    </tr>\n",
       "    <tr>\n",
       "      <th>1</th>\n",
       "      <td>B002FU5QM0</td>\n",
       "      <td>[0, 0]</td>\n",
       "      <td>5.0</td>\n",
       "      <td>these speakers work well for using at my desk ...</td>\n",
       "      <td>11 18, 2012</td>\n",
       "      <td>A00277003AGRC9WJJ555O</td>\n",
       "      <td>Alex</td>\n",
       "      <td>Works well</td>\n",
       "      <td>1353196800</td>\n",
       "    </tr>\n",
       "    <tr>\n",
       "      <th>2</th>\n",
       "      <td>B003LCV4RM</td>\n",
       "      <td>[0, 1]</td>\n",
       "      <td>5.0</td>\n",
       "      <td>it works like a CHARM!!! love it all the raoch...</td>\n",
       "      <td>10 18, 2013</td>\n",
       "      <td>A00311601FOXCO2AIRNIF</td>\n",
       "      <td>fatima khan</td>\n",
       "      <td>wonderful</td>\n",
       "      <td>1382054400</td>\n",
       "    </tr>\n",
       "    <tr>\n",
       "      <th>3</th>\n",
       "      <td>B0015C30J0</td>\n",
       "      <td>[0, 0]</td>\n",
       "      <td>5.0</td>\n",
       "      <td>Came within a day of my purchase. I was happy ...</td>\n",
       "      <td>12 7, 2013</td>\n",
       "      <td>A00343841Z6YRUBZ6K0W3</td>\n",
       "      <td>Kevin Truong</td>\n",
       "      <td>Nice</td>\n",
       "      <td>1386374400</td>\n",
       "    </tr>\n",
       "    <tr>\n",
       "      <th>4</th>\n",
       "      <td>B002FU5QLQ</td>\n",
       "      <td>[0, 0]</td>\n",
       "      <td>4.0</td>\n",
       "      <td>I sometimes show videos in a variety of classr...</td>\n",
       "      <td>04 21, 2014</td>\n",
       "      <td>A0047322388NOTO4N8SKD</td>\n",
       "      <td>Robert Patton</td>\n",
       "      <td>Simple, small, adequate</td>\n",
       "      <td>1398038400</td>\n",
       "    </tr>\n",
       "  </tbody>\n",
       "</table>\n",
       "</div>"
      ],
      "text/plain": [
       "         asin helpful  overall  \\\n",
       "0  B000R9AAJA  [0, 0]      5.0   \n",
       "1  B002FU5QM0  [0, 0]      5.0   \n",
       "2  B003LCV4RM  [0, 1]      5.0   \n",
       "3  B0015C30J0  [0, 0]      5.0   \n",
       "4  B002FU5QLQ  [0, 0]      4.0   \n",
       "\n",
       "                                          reviewText   reviewTime  \\\n",
       "0  Speakers are loud and clear. They work great! ...  11 22, 2012   \n",
       "1  these speakers work well for using at my desk ...  11 18, 2012   \n",
       "2  it works like a CHARM!!! love it all the raoch...  10 18, 2013   \n",
       "3  Came within a day of my purchase. I was happy ...   12 7, 2013   \n",
       "4  I sometimes show videos in a variety of classr...  04 21, 2014   \n",
       "\n",
       "              reviewerID   reviewerName                  summary  \\\n",
       "0   A0023922YYT81KP1CWU4  Steven Caruso                   Great!   \n",
       "1  A00277003AGRC9WJJ555O           Alex               Works well   \n",
       "2  A00311601FOXCO2AIRNIF    fatima khan                wonderful   \n",
       "3  A00343841Z6YRUBZ6K0W3   Kevin Truong                     Nice   \n",
       "4  A0047322388NOTO4N8SKD  Robert Patton  Simple, small, adequate   \n",
       "\n",
       "   unixReviewTime  \n",
       "0      1353542400  \n",
       "1      1353196800  \n",
       "2      1382054400  \n",
       "3      1386374400  \n",
       "4      1398038400  "
      ]
     },
     "execution_count": 5,
     "metadata": {},
     "output_type": "execute_result"
    }
   ],
   "source": [
    "swissDF.drop(['Unnamed: 0'], axis = 1, inplace = True)\n",
    "swissDF.head()"
   ]
  },
  {
   "cell_type": "code",
   "execution_count": 11,
   "metadata": {
    "collapsed": false
   },
   "outputs": [
    {
     "data": {
      "text/plain": [
       "<matplotlib.axes._subplots.AxesSubplot at 0x7f70fd804780>"
      ]
     },
     "execution_count": 11,
     "metadata": {},
     "output_type": "execute_result"
    },
    {
     "data": {
      "image/png": "[encoded data removed]",
      "text/plain": [
       "<matplotlib.figure.Figure at 0x7f70fd857fd0>"
      ]
     },
     "metadata": {},
     "output_type": "display_data"
    }
   ],
   "source": [
    "swissDF.overall.value_counts().sort_index().plot.bar()"
   ]
  },
  {
   "cell_type": "markdown",
   "metadata": {},
   "source": [
    "Out of interest, we'll group the reviews by year and look for a trend"
   ]
  },
  {
   "cell_type": "code",
   "execution_count": 12,
   "metadata": {
    "collapsed": false
   },
   "outputs": [],
   "source": [
    "swissDF['year'] = swissDF['reviewTime'].astype(str)"
   ]
  },
  {
   "cell_type": "code",
   "execution_count": 13,
   "metadata": {
    "collapsed": false
   },
   "outputs": [],
   "source": [
    "swissDF['year'] = swissDF['year'].apply(lambda x: x[-4:])"
   ]
  },
  {
   "cell_type": "code",
   "execution_count": 14,
   "metadata": {
    "collapsed": false
   },
   "outputs": [
    {
     "data": {
      "text/html": [
       "<div>\n",
       "<table border=\"1\" class=\"dataframe\">\n",
       "  <thead>\n",
       "    <tr style=\"text-align: right;\">\n",
       "      <th></th>\n",
       "      <th>asin</th>\n",
       "      <th>helpful</th>\n",
       "      <th>overall</th>\n",
       "      <th>reviewText</th>\n",
       "      <th>reviewTime</th>\n",
       "      <th>reviewerID</th>\n",
       "      <th>reviewerName</th>\n",
       "      <th>summary</th>\n",
       "      <th>unixReviewTime</th>\n",
       "      <th>year</th>\n",
       "    </tr>\n",
       "  </thead>\n",
       "  <tbody>\n",
       "    <tr>\n",
       "      <th>0</th>\n",
       "      <td>B000R9AAJA</td>\n",
       "      <td>[0, 0]</td>\n",
       "      <td>5.0</td>\n",
       "      <td>Speakers are loud and clear. They work great! ...</td>\n",
       "      <td>11 22, 2012</td>\n",
       "      <td>A0023922YYT81KP1CWU4</td>\n",
       "      <td>Steven Caruso</td>\n",
       "      <td>Great!</td>\n",
       "      <td>1353542400</td>\n",
       "      <td>2012</td>\n",
       "    </tr>\n",
       "    <tr>\n",
       "      <th>1</th>\n",
       "      <td>B002FU5QM0</td>\n",
       "      <td>[0, 0]</td>\n",
       "      <td>5.0</td>\n",
       "      <td>these speakers work well for using at my desk ...</td>\n",
       "      <td>11 18, 2012</td>\n",
       "      <td>A00277003AGRC9WJJ555O</td>\n",
       "      <td>Alex</td>\n",
       "      <td>Works well</td>\n",
       "      <td>1353196800</td>\n",
       "      <td>2012</td>\n",
       "    </tr>\n",
       "    <tr>\n",
       "      <th>2</th>\n",
       "      <td>B003LCV4RM</td>\n",
       "      <td>[0, 1]</td>\n",
       "      <td>5.0</td>\n",
       "      <td>it works like a CHARM!!! love it all the raoch...</td>\n",
       "      <td>10 18, 2013</td>\n",
       "      <td>A00311601FOXCO2AIRNIF</td>\n",
       "      <td>fatima khan</td>\n",
       "      <td>wonderful</td>\n",
       "      <td>1382054400</td>\n",
       "      <td>2013</td>\n",
       "    </tr>\n",
       "    <tr>\n",
       "      <th>3</th>\n",
       "      <td>B0015C30J0</td>\n",
       "      <td>[0, 0]</td>\n",
       "      <td>5.0</td>\n",
       "      <td>Came within a day of my purchase. I was happy ...</td>\n",
       "      <td>12 7, 2013</td>\n",
       "      <td>A00343841Z6YRUBZ6K0W3</td>\n",
       "      <td>Kevin Truong</td>\n",
       "      <td>Nice</td>\n",
       "      <td>1386374400</td>\n",
       "      <td>2013</td>\n",
       "    </tr>\n",
       "    <tr>\n",
       "      <th>4</th>\n",
       "      <td>B002FU5QLQ</td>\n",
       "      <td>[0, 0]</td>\n",
       "      <td>4.0</td>\n",
       "      <td>I sometimes show videos in a variety of classr...</td>\n",
       "      <td>04 21, 2014</td>\n",
       "      <td>A0047322388NOTO4N8SKD</td>\n",
       "      <td>Robert Patton</td>\n",
       "      <td>Simple, small, adequate</td>\n",
       "      <td>1398038400</td>\n",
       "      <td>2014</td>\n",
       "    </tr>\n",
       "  </tbody>\n",
       "</table>\n",
       "</div>"
      ],
      "text/plain": [
       "         asin helpful  overall  \\\n",
       "0  B000R9AAJA  [0, 0]      5.0   \n",
       "1  B002FU5QM0  [0, 0]      5.0   \n",
       "2  B003LCV4RM  [0, 1]      5.0   \n",
       "3  B0015C30J0  [0, 0]      5.0   \n",
       "4  B002FU5QLQ  [0, 0]      4.0   \n",
       "\n",
       "                                          reviewText   reviewTime  \\\n",
       "0  Speakers are loud and clear. They work great! ...  11 22, 2012   \n",
       "1  these speakers work well for using at my desk ...  11 18, 2012   \n",
       "2  it works like a CHARM!!! love it all the raoch...  10 18, 2013   \n",
       "3  Came within a day of my purchase. I was happy ...   12 7, 2013   \n",
       "4  I sometimes show videos in a variety of classr...  04 21, 2014   \n",
       "\n",
       "              reviewerID   reviewerName                  summary  \\\n",
       "0   A0023922YYT81KP1CWU4  Steven Caruso                   Great!   \n",
       "1  A00277003AGRC9WJJ555O           Alex               Works well   \n",
       "2  A00311601FOXCO2AIRNIF    fatima khan                wonderful   \n",
       "3  A00343841Z6YRUBZ6K0W3   Kevin Truong                     Nice   \n",
       "4  A0047322388NOTO4N8SKD  Robert Patton  Simple, small, adequate   \n",
       "\n",
       "   unixReviewTime  year  \n",
       "0      1353542400  2012  \n",
       "1      1353196800  2012  \n",
       "2      1382054400  2013  \n",
       "3      1386374400  2013  \n",
       "4      1398038400  2014  "
      ]
     },
     "execution_count": 14,
     "metadata": {},
     "output_type": "execute_result"
    }
   ],
   "source": [
    "swissDF.head()"
   ]
  },
  {
   "cell_type": "code",
   "execution_count": 15,
   "metadata": {
    "collapsed": true
   },
   "outputs": [],
   "source": [
    "yearGroup =swissDF.groupby(['year'])"
   ]
  },
  {
   "cell_type": "code",
   "execution_count": 16,
   "metadata": {
    "collapsed": false,
    "scrolled": true
   },
   "outputs": [
    {
     "data": {
      "text/html": [
       "<div>\n",
       "<table border=\"1\" class=\"dataframe\">\n",
       "  <thead>\n",
       "    <tr style=\"text-align: right;\">\n",
       "      <th></th>\n",
       "      <th>count</th>\n",
       "      <th>mean</th>\n",
       "    </tr>\n",
       "    <tr>\n",
       "      <th>year</th>\n",
       "      <th></th>\n",
       "      <th></th>\n",
       "    </tr>\n",
       "  </thead>\n",
       "  <tbody>\n",
       "    <tr>\n",
       "      <th>2000</th>\n",
       "      <td>12</td>\n",
       "      <td>4.416667</td>\n",
       "    </tr>\n",
       "    <tr>\n",
       "      <th>2001</th>\n",
       "      <td>49</td>\n",
       "      <td>3.918367</td>\n",
       "    </tr>\n",
       "    <tr>\n",
       "      <th>2002</th>\n",
       "      <td>70</td>\n",
       "      <td>3.942857</td>\n",
       "    </tr>\n",
       "    <tr>\n",
       "      <th>2003</th>\n",
       "      <td>205</td>\n",
       "      <td>4.136585</td>\n",
       "    </tr>\n",
       "    <tr>\n",
       "      <th>2004</th>\n",
       "      <td>307</td>\n",
       "      <td>3.491857</td>\n",
       "    </tr>\n",
       "    <tr>\n",
       "      <th>2005</th>\n",
       "      <td>826</td>\n",
       "      <td>3.984262</td>\n",
       "    </tr>\n",
       "    <tr>\n",
       "      <th>2006</th>\n",
       "      <td>1893</td>\n",
       "      <td>4.078711</td>\n",
       "    </tr>\n",
       "    <tr>\n",
       "      <th>2007</th>\n",
       "      <td>5514</td>\n",
       "      <td>4.273486</td>\n",
       "    </tr>\n",
       "    <tr>\n",
       "      <th>2008</th>\n",
       "      <td>7366</td>\n",
       "      <td>4.250068</td>\n",
       "    </tr>\n",
       "    <tr>\n",
       "      <th>2009</th>\n",
       "      <td>10814</td>\n",
       "      <td>4.258461</td>\n",
       "    </tr>\n",
       "    <tr>\n",
       "      <th>2010</th>\n",
       "      <td>15425</td>\n",
       "      <td>4.173160</td>\n",
       "    </tr>\n",
       "    <tr>\n",
       "      <th>2011</th>\n",
       "      <td>26518</td>\n",
       "      <td>4.160570</td>\n",
       "    </tr>\n",
       "    <tr>\n",
       "      <th>2012</th>\n",
       "      <td>43383</td>\n",
       "      <td>4.123343</td>\n",
       "    </tr>\n",
       "    <tr>\n",
       "      <th>2013</th>\n",
       "      <td>102387</td>\n",
       "      <td>4.243039</td>\n",
       "    </tr>\n",
       "    <tr>\n",
       "      <th>2014</th>\n",
       "      <td>75109</td>\n",
       "      <td>4.177715</td>\n",
       "    </tr>\n",
       "  </tbody>\n",
       "</table>\n",
       "</div>"
      ],
      "text/plain": [
       "       count      mean\n",
       "year                  \n",
       "2000      12  4.416667\n",
       "2001      49  3.918367\n",
       "2002      70  3.942857\n",
       "2003     205  4.136585\n",
       "2004     307  3.491857\n",
       "2005     826  3.984262\n",
       "2006    1893  4.078711\n",
       "2007    5514  4.273486\n",
       "2008    7366  4.250068\n",
       "2009   10814  4.258461\n",
       "2010   15425  4.173160\n",
       "2011   26518  4.160570\n",
       "2012   43383  4.123343\n",
       "2013  102387  4.243039\n",
       "2014   75109  4.177715"
      ]
     },
     "execution_count": 16,
     "metadata": {},
     "output_type": "execute_result"
    }
   ],
   "source": [
    "yearGroup['overall'].agg(['count', 'mean'])"
   ]
  },
  {
   "cell_type": "code",
   "execution_count": 17,
   "metadata": {
    "collapsed": false
   },
   "outputs": [
    {
     "data": {
      "text/plain": [
       "<matplotlib.axes._subplots.AxesSubplot at 0x7f71004ff320>"
      ]
     },
     "execution_count": 17,
     "metadata": {},
     "output_type": "execute_result"
    },
    {
     "data": {
      "image/png": "[encoded data removed]",
      "text/plain": [
       "<matplotlib.figure.Figure at 0x7f71004f9b38>"
      ]
     },
     "metadata": {},
     "output_type": "display_data"
    }
   ],
   "source": [
    "yearGroup['overall'].count().plot.bar()"
   ]
  },
  {
   "cell_type": "markdown",
   "metadata": {},
   "source": [
    "It seems like the number of reviews is growing with a huge increase in 2013. 2014 seems smaller in comparison but this data was collected in July 2014 so some of it is missing.\n",
    "\n",
    "The mean of the scores is pretty stable, with a dip in 2004 probably caused because of one or two bad products and the small number of reviews"
   ]
  },
  {
   "cell_type": "code",
   "execution_count": null,
   "metadata": {
    "collapsed": true
   },
   "outputs": [],
   "source": []
  },
  {
   "cell_type": "code",
   "execution_count": null,
   "metadata": {
    "collapsed": true,
    "scrolled": true
   },
   "outputs": [],
   "source": []
  }
 ],
 "metadata": {
  "kernelspec": {
   "display_name": "Python 3",
   "language": "python",
   "name": "python3"
  },
  "language_info": {
   "codemirror_mode": {
    "name": "ipython",
    "version": 3
   },
   "file_extension": ".py",
   "mimetype": "text/x-python",
   "name": "python",
   "nbconvert_exporter": "python",
   "pygments_lexer": "ipython3",
   "version": "3.5.1"
  }
 },
 "nbformat": 4,
 "nbformat_minor": 0
}
